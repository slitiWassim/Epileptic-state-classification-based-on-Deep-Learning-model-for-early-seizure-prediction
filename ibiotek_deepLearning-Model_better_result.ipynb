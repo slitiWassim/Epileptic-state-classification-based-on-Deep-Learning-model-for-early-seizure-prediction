{
 "cells": [
  {
   "cell_type": "markdown",
   "metadata": {},
   "source": [
    "After tt"
   ]
  },
  {
   "cell_type": "code",
   "execution_count": 1,
   "metadata": {},
   "outputs": [
    {
     "name": "stdout",
     "output_type": "stream",
     "text": [
      "(13762, 8)\n"
     ]
    }
   ],
   "source": [
    "import pandas as pd\n",
    "import numpy \n",
    "dataset_e1= pd.read_csv(\"./stand_norm_e1.txt\",delimiter=\" \",header=None)\n",
    "dataset_e1=numpy.array(dataset_e1,float)\n",
    "\n",
    "X_e1 = dataset_e1[:,:8]\n",
    "#m=np.max(X_e1)\n",
    "\n",
    "print(X_e1.shape)\n",
    "\n"
   ]
  },
  {
   "cell_type": "code",
   "execution_count": 2,
   "metadata": {},
   "outputs": [
    {
     "name": "stdout",
     "output_type": "stream",
     "text": [
      "(13762, 8)\n"
     ]
    }
   ],
   "source": [
    "dataset_e2= pd.read_csv(\"./stand_norm_e2.txt\",delimiter=\" \",header=None)\n",
    "dataset_e2=numpy.array(dataset_e2,float)\n",
    "\n",
    "X_e2 = dataset_e2[:,:8]\n",
    "#n=np.max(X_e2)\n",
    "#X_e2=X_e2/n\n",
    "print(X_e2.shape)\n"
   ]
  },
  {
   "cell_type": "code",
   "execution_count": 3,
   "metadata": {},
   "outputs": [
    {
     "name": "stdout",
     "output_type": "stream",
     "text": [
      "(13762, 8, 2)\n"
     ]
    }
   ],
   "source": [
    "x_train_test=numpy.zeros((X_e1.shape[0],X_e1.shape[1],2))\n",
    "x_train_test[:,:,0]=X_e1\n",
    "x_train_test[:,:,1]=X_e2\n",
    "print(x_train_test.shape)\n",
    "#print(x_test.shape)\n",
    "\n"
   ]
  },
  {
   "cell_type": "code",
   "execution_count": 4,
   "metadata": {},
   "outputs": [],
   "source": [
    "dataset_output= pd.read_csv(\"./y2_e1.txt\",delimiter=\" \",header=None)\n",
    "dataset_output=numpy.array(dataset_output,float)\n",
    "dataset_output_new= dataset_output.reshape(dataset_output.shape[0], )\n"
   ]
  },
  {
   "cell_type": "code",
   "execution_count": 5,
   "metadata": {},
   "outputs": [
    {
     "name": "stdout",
     "output_type": "stream",
     "text": [
      "(11697, 8, 2)\n",
      "(11697,)\n",
      "(11697, 3)\n",
      "(11697, 8, 2)\n",
      "(11697, 16)\n"
     ]
    }
   ],
   "source": [
    "from sklearn.model_selection import train_test_split\n",
    "x_train, x_test, y_train, y_test = train_test_split(x_train_test, dataset_output_new, test_size=0.15, random_state=42)\n",
    "x_train_new=x_train\n",
    "x_test_new=x_test\n",
    "print(x_train_new.shape)\n",
    "print(y_train.shape)\n",
    "import tensorflow\n",
    "Y_train_new = tensorflow.keras.utils.to_categorical( y_train)\n",
    "Y_test_new = tensorflow.keras.utils.to_categorical(y_test)\n",
    "print(Y_train_new.shape)\n",
    "print (x_train_new.shape)\n",
    "x_train_new=x_train_new.reshape(x_train_new.shape[0],  x_train_new.shape[1]*2, )\n",
    "x_test_new = x_test_new.reshape(x_test_new.shape[0], x_test_new.shape[1]*2, )\n",
    "print (x_train_new.shape)\n",
    "\n",
    "\n",
    "\n"
   ]
  },
  {
   "cell_type": "code",
   "execution_count": 6,
   "metadata": {},
   "outputs": [],
   "source": [
    "from sklearn import preprocessing\n",
    "r_scaler = preprocessing.RobustScaler()\n",
    "x_train_new= r_scaler.fit_transform(x_train_new)"
   ]
  },
  {
   "cell_type": "code",
   "execution_count": 7,
   "metadata": {},
   "outputs": [],
   "source": [
    "#Y_train_new= r_scaler.fit_transform(Y_train_new)\n",
    "x_test_new = r_scaler.fit_transform(x_test_new )\n"
   ]
  },
  {
   "cell_type": "code",
   "execution_count": 8,
   "metadata": {},
   "outputs": [],
   "source": [
    "\n",
    "\n",
    "import numpy as np \n",
    "import pandas as pd \n",
    "\n",
    "from keras.models import Sequential\n",
    "from keras.layers import Conv1D\n",
    "from keras.layers import MaxPooling1D , Dropout ,BatchNormalization ,GRU ,Bidirectional\n",
    "from keras.layers import Flatten\n",
    "from keras.layers import Dense\n",
    "from PIL import Image\n",
    "from keras.utils.vis_utils import plot_model\n",
    "from keras.callbacks import ModelCheckpoint\n",
    "import matplotlib.pyplot as plt\n",
    "from keras.layers import LSTM\n"
   ]
  },
  {
   "cell_type": "code",
   "execution_count": 9,
   "metadata": {},
   "outputs": [
    {
     "name": "stderr",
     "output_type": "stream",
     "text": [
      "2022-03-15 13:43:30.015305: I tensorflow/stream_executor/cuda/cuda_gpu_executor.cc:936] successful NUMA node read from SysFS had negative value (-1), but there must be at least one NUMA node, so returning NUMA node zero\n",
      "2022-03-15 13:43:30.042735: I tensorflow/stream_executor/cuda/cuda_gpu_executor.cc:936] successful NUMA node read from SysFS had negative value (-1), but there must be at least one NUMA node, so returning NUMA node zero\n",
      "2022-03-15 13:43:30.042902: I tensorflow/stream_executor/cuda/cuda_gpu_executor.cc:936] successful NUMA node read from SysFS had negative value (-1), but there must be at least one NUMA node, so returning NUMA node zero\n",
      "2022-03-15 13:43:30.043231: I tensorflow/core/platform/cpu_feature_guard.cc:151] This TensorFlow binary is optimized with oneAPI Deep Neural Network Library (oneDNN) to use the following CPU instructions in performance-critical operations:  AVX2 FMA\n",
      "To enable them in other operations, rebuild TensorFlow with the appropriate compiler flags.\n",
      "2022-03-15 13:43:30.043589: I tensorflow/stream_executor/cuda/cuda_gpu_executor.cc:936] successful NUMA node read from SysFS had negative value (-1), but there must be at least one NUMA node, so returning NUMA node zero\n",
      "2022-03-15 13:43:30.043721: I tensorflow/stream_executor/cuda/cuda_gpu_executor.cc:936] successful NUMA node read from SysFS had negative value (-1), but there must be at least one NUMA node, so returning NUMA node zero\n",
      "2022-03-15 13:43:30.043827: I tensorflow/stream_executor/cuda/cuda_gpu_executor.cc:936] successful NUMA node read from SysFS had negative value (-1), but there must be at least one NUMA node, so returning NUMA node zero\n",
      "2022-03-15 13:43:30.400531: I tensorflow/stream_executor/cuda/cuda_gpu_executor.cc:936] successful NUMA node read from SysFS had negative value (-1), but there must be at least one NUMA node, so returning NUMA node zero\n",
      "2022-03-15 13:43:30.400706: I tensorflow/stream_executor/cuda/cuda_gpu_executor.cc:936] successful NUMA node read from SysFS had negative value (-1), but there must be at least one NUMA node, so returning NUMA node zero\n",
      "2022-03-15 13:43:30.400821: I tensorflow/stream_executor/cuda/cuda_gpu_executor.cc:936] successful NUMA node read from SysFS had negative value (-1), but there must be at least one NUMA node, so returning NUMA node zero\n",
      "2022-03-15 13:43:30.400920: I tensorflow/core/common_runtime/gpu/gpu_device.cc:1525] Created device /job:localhost/replica:0/task:0/device:GPU:0 with 2034 MB memory:  -> device: 0, name: NVIDIA GeForce GTX 1650, pci bus id: 0000:01:00.0, compute capability: 7.5\n"
     ]
    },
    {
     "name": "stdout",
     "output_type": "stream",
     "text": [
      "WARNING:tensorflow:Layer lstm_1 will not use cuDNN kernels since it doesn't meet the criteria. It will use a generic GPU kernel as fallback when running on GPU.\n",
      "WARNING:tensorflow:Layer lstm_1 will not use cuDNN kernels since it doesn't meet the criteria. It will use a generic GPU kernel as fallback when running on GPU.\n",
      "WARNING:tensorflow:Layer lstm_1 will not use cuDNN kernels since it doesn't meet the criteria. It will use a generic GPU kernel as fallback when running on GPU.\n",
      "Model: \"sequential\"\n",
      "_________________________________________________________________\n",
      " Layer (type)                Output Shape              Param #   \n",
      "=================================================================\n",
      " lstm (LSTM)                 (None, 16, 1024)          4202496   \n",
      "                                                                 \n",
      " dropout (Dropout)           (None, 16, 1024)          0         \n",
      "                                                                 \n",
      " bidirectional (Bidirectiona  (None, 2048)             16785408  \n",
      " l)                                                              \n",
      "                                                                 \n",
      " dropout_1 (Dropout)         (None, 2048)              0         \n",
      "                                                                 \n",
      " batch_normalization (BatchN  (None, 2048)             8192      \n",
      " ormalization)                                                   \n",
      "                                                                 \n",
      " dropout_2 (Dropout)         (None, 2048)              0         \n",
      "                                                                 \n",
      " dense (Dense)               (None, 256)               524544    \n",
      "                                                                 \n",
      " dense_1 (Dense)             (None, 3)                 771       \n",
      "                                                                 \n",
      "=================================================================\n",
      "Total params: 21,521,411\n",
      "Trainable params: 21,517,315\n",
      "Non-trainable params: 4,096\n",
      "_________________________________________________________________\n",
      "None\n"
     ]
    }
   ],
   "source": [
    "model = Sequential()\n",
    "model.add(LSTM(1024,return_sequences=True,input_shape=(16,1)))\n",
    "model.add(Dropout(0.2))\n",
    "model.add(Bidirectional(LSTM(1024, activation='relu'))) #elu\n",
    "model.add(Dropout(0.5))\n",
    "#model.add(Bidirectional(LSTM(500, dropout=0.5)))\n",
    "model.add(BatchNormalization(momentum=0.6))\n",
    "model.add(Dropout(0.5))\n",
    "model.add(Dense(256, activation='relu'))\n",
    "model.add(Dense(3, activation='softmax'))\n",
    "model.compile(loss='binary_crossentropy', optimizer='adam', metrics=['accuracy'])\n",
    "print(model.summary()) "
   ]
  },
  {
   "cell_type": "code",
   "execution_count": 10,
   "metadata": {},
   "outputs": [
    {
     "name": "stdout",
     "output_type": "stream",
     "text": [
      "Epoch 1/70\n"
     ]
    },
    {
     "name": "stderr",
     "output_type": "stream",
     "text": [
      "2022-03-15 13:43:40.841306: I tensorflow/stream_executor/cuda/cuda_dnn.cc:368] Loaded cuDNN version 8302\n"
     ]
    },
    {
     "name": "stdout",
     "output_type": "stream",
     "text": [
      "19/19 [==============================] - ETA: 0s - loss: 0.5310 - accuracy: 0.6242\n",
      "Epoch 1: val_loss improved from inf to 0.39156, saving model to ./_best_weights.h5\n",
      "19/19 [==============================] - 19s 846ms/step - loss: 0.5310 - accuracy: 0.6242 - val_loss: 0.3916 - val_accuracy: 0.7167\n",
      "Epoch 2/70\n",
      "19/19 [==============================] - ETA: 0s - loss: 0.3977 - accuracy: 0.7334\n",
      "Epoch 2: val_loss improved from 0.39156 to 0.37163, saving model to ./_best_weights.h5\n",
      "19/19 [==============================] - 16s 837ms/step - loss: 0.3977 - accuracy: 0.7334 - val_loss: 0.3716 - val_accuracy: 0.7415\n",
      "Epoch 3/70\n",
      "19/19 [==============================] - ETA: 0s - loss: 0.3872 - accuracy: 0.7331\n",
      "Epoch 3: val_loss improved from 0.37163 to 0.37106, saving model to ./_best_weights.h5\n",
      "19/19 [==============================] - 16s 843ms/step - loss: 0.3872 - accuracy: 0.7331 - val_loss: 0.3711 - val_accuracy: 0.7333\n",
      "Epoch 4/70\n",
      "19/19 [==============================] - ETA: 0s - loss: 0.3789 - accuracy: 0.7390\n",
      "Epoch 4: val_loss improved from 0.37106 to 0.35209, saving model to ./_best_weights.h5\n",
      "19/19 [==============================] - 16s 838ms/step - loss: 0.3789 - accuracy: 0.7390 - val_loss: 0.3521 - val_accuracy: 0.7573\n",
      "Epoch 5/70\n",
      "19/19 [==============================] - ETA: 0s - loss: 0.3683 - accuracy: 0.7444\n",
      "Epoch 5: val_loss improved from 0.35209 to 0.34038, saving model to ./_best_weights.h5\n",
      "19/19 [==============================] - 16s 840ms/step - loss: 0.3683 - accuracy: 0.7444 - val_loss: 0.3404 - val_accuracy: 0.7560\n",
      "Epoch 6/70\n",
      "19/19 [==============================] - ETA: 0s - loss: 0.3618 - accuracy: 0.7532\n",
      "Epoch 6: val_loss did not improve from 0.34038\n",
      "19/19 [==============================] - 13s 701ms/step - loss: 0.3618 - accuracy: 0.7532 - val_loss: 0.3491 - val_accuracy: 0.7581\n",
      "Epoch 7/70\n",
      "19/19 [==============================] - ETA: 0s - loss: 0.3507 - accuracy: 0.7627\n",
      "Epoch 7: val_loss improved from 0.34038 to 0.33030, saving model to ./_best_weights.h5\n",
      "19/19 [==============================] - 16s 841ms/step - loss: 0.3507 - accuracy: 0.7627 - val_loss: 0.3303 - val_accuracy: 0.7709\n",
      "Epoch 8/70\n",
      "19/19 [==============================] - ETA: 0s - loss: 0.3417 - accuracy: 0.7704\n",
      "Epoch 8: val_loss did not improve from 0.33030\n",
      "19/19 [==============================] - 13s 709ms/step - loss: 0.3417 - accuracy: 0.7704 - val_loss: 0.3442 - val_accuracy: 0.7756\n",
      "Epoch 9/70\n",
      "19/19 [==============================] - ETA: 0s - loss: 0.3318 - accuracy: 0.7770\n",
      "Epoch 9: val_loss did not improve from 0.33030\n",
      "19/19 [==============================] - 13s 706ms/step - loss: 0.3318 - accuracy: 0.7770 - val_loss: 0.3703 - val_accuracy: 0.7462\n",
      "Epoch 10/70\n",
      "19/19 [==============================] - ETA: 0s - loss: 0.3250 - accuracy: 0.7772\n",
      "Epoch 10: val_loss improved from 0.33030 to 0.32810, saving model to ./_best_weights.h5\n",
      "19/19 [==============================] - 16s 846ms/step - loss: 0.3250 - accuracy: 0.7772 - val_loss: 0.3281 - val_accuracy: 0.7637\n",
      "Epoch 11/70\n",
      "19/19 [==============================] - ETA: 0s - loss: 0.3158 - accuracy: 0.7886\n",
      "Epoch 11: val_loss improved from 0.32810 to 0.31847, saving model to ./_best_weights.h5\n",
      "19/19 [==============================] - 16s 843ms/step - loss: 0.3158 - accuracy: 0.7886 - val_loss: 0.3185 - val_accuracy: 0.7782\n",
      "Epoch 12/70\n",
      "19/19 [==============================] - ETA: 0s - loss: 0.3090 - accuracy: 0.7949\n",
      "Epoch 12: val_loss improved from 0.31847 to 0.29468, saving model to ./_best_weights.h5\n",
      "19/19 [==============================] - 16s 836ms/step - loss: 0.3090 - accuracy: 0.7949 - val_loss: 0.2947 - val_accuracy: 0.7987\n",
      "Epoch 13/70\n",
      "19/19 [==============================] - ETA: 0s - loss: 0.2950 - accuracy: 0.8024\n",
      "Epoch 13: val_loss improved from 0.29468 to 0.28300, saving model to ./_best_weights.h5\n",
      "19/19 [==============================] - 16s 827ms/step - loss: 0.2950 - accuracy: 0.8024 - val_loss: 0.2830 - val_accuracy: 0.8090\n",
      "Epoch 14/70\n",
      "19/19 [==============================] - ETA: 0s - loss: 0.2883 - accuracy: 0.8082\n",
      "Epoch 14: val_loss did not improve from 0.28300\n",
      "19/19 [==============================] - 13s 687ms/step - loss: 0.2883 - accuracy: 0.8082 - val_loss: 0.3059 - val_accuracy: 0.7915\n",
      "Epoch 15/70\n",
      "19/19 [==============================] - ETA: 0s - loss: 0.2777 - accuracy: 0.8135\n",
      "Epoch 15: val_loss improved from 0.28300 to 0.28059, saving model to ./_best_weights.h5\n",
      "19/19 [==============================] - 16s 835ms/step - loss: 0.2777 - accuracy: 0.8135 - val_loss: 0.2806 - val_accuracy: 0.8179\n",
      "Epoch 16/70\n",
      "19/19 [==============================] - ETA: 0s - loss: 0.2798 - accuracy: 0.8170\n",
      "Epoch 16: val_loss did not improve from 0.28059\n",
      "19/19 [==============================] - 13s 687ms/step - loss: 0.2798 - accuracy: 0.8170 - val_loss: 0.2810 - val_accuracy: 0.8107\n",
      "Epoch 17/70\n",
      "19/19 [==============================] - ETA: 0s - loss: 0.2709 - accuracy: 0.8154\n",
      "Epoch 17: val_loss did not improve from 0.28059\n",
      "19/19 [==============================] - 13s 690ms/step - loss: 0.2709 - accuracy: 0.8154 - val_loss: 0.2851 - val_accuracy: 0.8192\n",
      "Epoch 18/70\n",
      "19/19 [==============================] - ETA: 0s - loss: 0.2745 - accuracy: 0.8174\n",
      "Epoch 18: val_loss did not improve from 0.28059\n",
      "19/19 [==============================] - 13s 692ms/step - loss: 0.2745 - accuracy: 0.8174 - val_loss: 0.3029 - val_accuracy: 0.7940\n",
      "Epoch 19/70\n",
      "19/19 [==============================] - ETA: 0s - loss: 0.2693 - accuracy: 0.8166\n",
      "Epoch 19: val_loss did not improve from 0.28059\n",
      "19/19 [==============================] - 13s 688ms/step - loss: 0.2693 - accuracy: 0.8166 - val_loss: 0.2876 - val_accuracy: 0.8068\n",
      "Epoch 20/70\n",
      "19/19 [==============================] - ETA: 0s - loss: 0.2588 - accuracy: 0.8282\n",
      "Epoch 20: val_loss improved from 0.28059 to 0.26799, saving model to ./_best_weights.h5\n",
      "19/19 [==============================] - 16s 857ms/step - loss: 0.2588 - accuracy: 0.8282 - val_loss: 0.2680 - val_accuracy: 0.8226\n",
      "Epoch 21/70\n",
      "19/19 [==============================] - ETA: 0s - loss: 0.2511 - accuracy: 0.8320\n",
      "Epoch 21: val_loss did not improve from 0.26799\n",
      "19/19 [==============================] - 13s 690ms/step - loss: 0.2511 - accuracy: 0.8320 - val_loss: 0.3191 - val_accuracy: 0.8184\n",
      "Epoch 22/70\n",
      "19/19 [==============================] - ETA: 0s - loss: 0.2545 - accuracy: 0.8302\n",
      "Epoch 22: val_loss did not improve from 0.26799\n",
      "19/19 [==============================] - 13s 692ms/step - loss: 0.2545 - accuracy: 0.8302 - val_loss: 0.2717 - val_accuracy: 0.8188\n",
      "Epoch 23/70\n",
      "19/19 [==============================] - ETA: 0s - loss: 0.2425 - accuracy: 0.8327\n",
      "Epoch 23: val_loss did not improve from 0.26799\n",
      "19/19 [==============================] - 13s 691ms/step - loss: 0.2425 - accuracy: 0.8327 - val_loss: 0.2891 - val_accuracy: 0.8128\n",
      "Epoch 24/70\n",
      "19/19 [==============================] - ETA: 0s - loss: 0.2479 - accuracy: 0.8381\n",
      "Epoch 24: val_loss improved from 0.26799 to 0.25698, saving model to ./_best_weights.h5\n",
      "19/19 [==============================] - 16s 842ms/step - loss: 0.2479 - accuracy: 0.8381 - val_loss: 0.2570 - val_accuracy: 0.8291\n",
      "Epoch 25/70\n",
      "19/19 [==============================] - ETA: 0s - loss: 0.2340 - accuracy: 0.8433\n",
      "Epoch 25: val_loss did not improve from 0.25698\n",
      "19/19 [==============================] - 13s 691ms/step - loss: 0.2340 - accuracy: 0.8433 - val_loss: 0.2652 - val_accuracy: 0.8338\n",
      "Epoch 26/70\n",
      "19/19 [==============================] - ETA: 0s - loss: 0.2313 - accuracy: 0.8477\n",
      "Epoch 26: val_loss did not improve from 0.25698\n",
      "19/19 [==============================] - 13s 691ms/step - loss: 0.2313 - accuracy: 0.8477 - val_loss: 0.2817 - val_accuracy: 0.8218\n",
      "Epoch 27/70\n",
      "19/19 [==============================] - ETA: 0s - loss: 0.2234 - accuracy: 0.8525\n",
      "Epoch 27: val_loss did not improve from 0.25698\n",
      "19/19 [==============================] - 13s 692ms/step - loss: 0.2234 - accuracy: 0.8525 - val_loss: 0.2906 - val_accuracy: 0.8274\n",
      "Epoch 28/70\n",
      "19/19 [==============================] - ETA: 0s - loss: 0.2240 - accuracy: 0.8514\n",
      "Epoch 28: val_loss improved from 0.25698 to 0.25199, saving model to ./_best_weights.h5\n",
      "19/19 [==============================] - 16s 843ms/step - loss: 0.2240 - accuracy: 0.8514 - val_loss: 0.2520 - val_accuracy: 0.8393\n",
      "Epoch 29/70\n",
      "19/19 [==============================] - ETA: 0s - loss: 0.2301 - accuracy: 0.8449\n",
      "Epoch 29: val_loss did not improve from 0.25199\n",
      "19/19 [==============================] - 13s 691ms/step - loss: 0.2301 - accuracy: 0.8449 - val_loss: 0.2567 - val_accuracy: 0.8286\n",
      "Epoch 30/70\n",
      "19/19 [==============================] - ETA: 0s - loss: 0.2152 - accuracy: 0.8569\n",
      "Epoch 30: val_loss improved from 0.25199 to 0.24746, saving model to ./_best_weights.h5\n",
      "19/19 [==============================] - 16s 838ms/step - loss: 0.2152 - accuracy: 0.8569 - val_loss: 0.2475 - val_accuracy: 0.8363\n",
      "Epoch 31/70\n",
      "19/19 [==============================] - ETA: 0s - loss: 0.2097 - accuracy: 0.8623\n",
      "Epoch 31: val_loss improved from 0.24746 to 0.23756, saving model to ./_best_weights.h5\n",
      "19/19 [==============================] - 16s 841ms/step - loss: 0.2097 - accuracy: 0.8623 - val_loss: 0.2376 - val_accuracy: 0.8487\n",
      "Epoch 32/70\n",
      "19/19 [==============================] - ETA: 0s - loss: 0.2293 - accuracy: 0.8489\n",
      "Epoch 32: val_loss did not improve from 0.23756\n",
      "19/19 [==============================] - 13s 688ms/step - loss: 0.2293 - accuracy: 0.8489 - val_loss: 0.2687 - val_accuracy: 0.8231\n",
      "Epoch 33/70\n",
      "19/19 [==============================] - ETA: 0s - loss: 0.2179 - accuracy: 0.8572\n",
      "Epoch 33: val_loss did not improve from 0.23756\n",
      "19/19 [==============================] - 13s 691ms/step - loss: 0.2179 - accuracy: 0.8572 - val_loss: 0.2394 - val_accuracy: 0.8423\n",
      "Epoch 34/70\n",
      "19/19 [==============================] - ETA: 0s - loss: 0.2046 - accuracy: 0.8645\n",
      "Epoch 34: val_loss improved from 0.23756 to 0.23280, saving model to ./_best_weights.h5\n",
      "19/19 [==============================] - 16s 842ms/step - loss: 0.2046 - accuracy: 0.8645 - val_loss: 0.2328 - val_accuracy: 0.8385\n",
      "Epoch 35/70\n",
      "19/19 [==============================] - ETA: 0s - loss: 0.2074 - accuracy: 0.8610\n",
      "Epoch 35: val_loss did not improve from 0.23280\n",
      "19/19 [==============================] - 13s 692ms/step - loss: 0.2074 - accuracy: 0.8610 - val_loss: 0.2347 - val_accuracy: 0.8466\n",
      "Epoch 36/70\n",
      "19/19 [==============================] - ETA: 0s - loss: 0.2019 - accuracy: 0.8684\n",
      "Epoch 36: val_loss improved from 0.23280 to 0.22831, saving model to ./_best_weights.h5\n",
      "19/19 [==============================] - 16s 838ms/step - loss: 0.2019 - accuracy: 0.8684 - val_loss: 0.2283 - val_accuracy: 0.8534\n",
      "Epoch 37/70\n",
      "19/19 [==============================] - ETA: 0s - loss: 0.1978 - accuracy: 0.8714\n",
      "Epoch 37: val_loss did not improve from 0.22831\n",
      "19/19 [==============================] - 13s 691ms/step - loss: 0.1978 - accuracy: 0.8714 - val_loss: 0.2381 - val_accuracy: 0.8444\n",
      "Epoch 38/70\n",
      "19/19 [==============================] - ETA: 0s - loss: 0.1976 - accuracy: 0.8689\n",
      "Epoch 38: val_loss did not improve from 0.22831\n",
      "19/19 [==============================] - 13s 688ms/step - loss: 0.1976 - accuracy: 0.8689 - val_loss: 0.2351 - val_accuracy: 0.8449\n",
      "Epoch 39/70\n",
      "19/19 [==============================] - ETA: 0s - loss: 0.1895 - accuracy: 0.8744\n",
      "Epoch 39: val_loss improved from 0.22831 to 0.22629, saving model to ./_best_weights.h5\n",
      "19/19 [==============================] - 16s 844ms/step - loss: 0.1895 - accuracy: 0.8744 - val_loss: 0.2263 - val_accuracy: 0.8581\n",
      "Epoch 40/70\n",
      "19/19 [==============================] - ETA: 0s - loss: 0.1901 - accuracy: 0.8738\n",
      "Epoch 40: val_loss did not improve from 0.22629\n",
      "19/19 [==============================] - 13s 692ms/step - loss: 0.1901 - accuracy: 0.8738 - val_loss: 0.2417 - val_accuracy: 0.8444\n",
      "Epoch 41/70\n",
      "19/19 [==============================] - ETA: 0s - loss: 0.1929 - accuracy: 0.8730\n",
      "Epoch 41: val_loss improved from 0.22629 to 0.22091, saving model to ./_best_weights.h5\n",
      "19/19 [==============================] - 16s 839ms/step - loss: 0.1929 - accuracy: 0.8730 - val_loss: 0.2209 - val_accuracy: 0.8560\n",
      "Epoch 42/70\n",
      "19/19 [==============================] - ETA: 0s - loss: 0.1902 - accuracy: 0.8728\n",
      "Epoch 42: val_loss did not improve from 0.22091\n",
      "19/19 [==============================] - 13s 690ms/step - loss: 0.1902 - accuracy: 0.8728 - val_loss: 0.2213 - val_accuracy: 0.8534\n",
      "Epoch 43/70\n",
      "19/19 [==============================] - ETA: 0s - loss: 0.1801 - accuracy: 0.8821\n",
      "Epoch 43: val_loss did not improve from 0.22091\n",
      "19/19 [==============================] - 13s 690ms/step - loss: 0.1801 - accuracy: 0.8821 - val_loss: 0.2209 - val_accuracy: 0.8585\n",
      "Epoch 44/70\n",
      "19/19 [==============================] - ETA: 0s - loss: 0.1746 - accuracy: 0.8824\n",
      "Epoch 44: val_loss did not improve from 0.22091\n",
      "19/19 [==============================] - 13s 691ms/step - loss: 0.1746 - accuracy: 0.8824 - val_loss: 0.2380 - val_accuracy: 0.8521\n",
      "Epoch 45/70\n",
      "19/19 [==============================] - ETA: 0s - loss: 0.1782 - accuracy: 0.8806\n",
      "Epoch 45: val_loss did not improve from 0.22091\n",
      "19/19 [==============================] - 13s 691ms/step - loss: 0.1782 - accuracy: 0.8806 - val_loss: 0.2601 - val_accuracy: 0.8419\n",
      "Epoch 46/70\n",
      "19/19 [==============================] - ETA: 0s - loss: 0.1916 - accuracy: 0.8740\n",
      "Epoch 46: val_loss did not improve from 0.22091\n",
      "19/19 [==============================] - 13s 693ms/step - loss: 0.1916 - accuracy: 0.8740 - val_loss: 0.2292 - val_accuracy: 0.8457\n",
      "Epoch 47/70\n",
      "19/19 [==============================] - ETA: 0s - loss: 0.1835 - accuracy: 0.8808\n",
      "Epoch 47: val_loss did not improve from 0.22091\n",
      "19/19 [==============================] - 13s 691ms/step - loss: 0.1835 - accuracy: 0.8808 - val_loss: 0.2412 - val_accuracy: 0.8474\n",
      "Epoch 48/70\n",
      "19/19 [==============================] - ETA: 0s - loss: 0.1692 - accuracy: 0.8864\n",
      "Epoch 48: val_loss did not improve from 0.22091\n",
      "19/19 [==============================] - 13s 693ms/step - loss: 0.1692 - accuracy: 0.8864 - val_loss: 0.2436 - val_accuracy: 0.8564\n",
      "Epoch 49/70\n",
      "19/19 [==============================] - ETA: 0s - loss: 0.1746 - accuracy: 0.8843\n",
      "Epoch 49: val_loss did not improve from 0.22091\n",
      "19/19 [==============================] - 13s 692ms/step - loss: 0.1746 - accuracy: 0.8843 - val_loss: 0.2374 - val_accuracy: 0.8530\n",
      "Epoch 50/70\n",
      "19/19 [==============================] - ETA: 0s - loss: 0.1715 - accuracy: 0.8873\n",
      "Epoch 50: val_loss did not improve from 0.22091\n",
      "19/19 [==============================] - 13s 693ms/step - loss: 0.1715 - accuracy: 0.8873 - val_loss: 0.2438 - val_accuracy: 0.8483\n",
      "Epoch 51/70\n",
      "19/19 [==============================] - ETA: 0s - loss: 0.1811 - accuracy: 0.8785\n",
      "Epoch 51: val_loss did not improve from 0.22091\n",
      "19/19 [==============================] - 13s 693ms/step - loss: 0.1811 - accuracy: 0.8785 - val_loss: 0.2273 - val_accuracy: 0.8504\n",
      "Epoch 52/70\n",
      "19/19 [==============================] - ETA: 0s - loss: 0.1674 - accuracy: 0.8902\n",
      "Epoch 52: val_loss did not improve from 0.22091\n",
      "19/19 [==============================] - 13s 691ms/step - loss: 0.1674 - accuracy: 0.8902 - val_loss: 0.2404 - val_accuracy: 0.8551\n",
      "Epoch 53/70\n",
      "19/19 [==============================] - ETA: 0s - loss: 0.1726 - accuracy: 0.8847\n",
      "Epoch 53: val_loss did not improve from 0.22091\n",
      "19/19 [==============================] - 13s 694ms/step - loss: 0.1726 - accuracy: 0.8847 - val_loss: 0.2276 - val_accuracy: 0.8632\n",
      "Epoch 54/70\n",
      "19/19 [==============================] - ETA: 0s - loss: 0.1586 - accuracy: 0.8969\n",
      "Epoch 54: val_loss did not improve from 0.22091\n",
      "19/19 [==============================] - 13s 691ms/step - loss: 0.1586 - accuracy: 0.8969 - val_loss: 0.2306 - val_accuracy: 0.8547\n",
      "Epoch 55/70\n",
      "19/19 [==============================] - ETA: 0s - loss: 0.1701 - accuracy: 0.8865\n",
      "Epoch 55: val_loss did not improve from 0.22091\n",
      "19/19 [==============================] - 13s 692ms/step - loss: 0.1701 - accuracy: 0.8865 - val_loss: 0.2573 - val_accuracy: 0.8487\n",
      "Epoch 56/70\n",
      "19/19 [==============================] - ETA: 0s - loss: 0.1711 - accuracy: 0.8883\n",
      "Epoch 56: val_loss did not improve from 0.22091\n",
      "19/19 [==============================] - 13s 690ms/step - loss: 0.1711 - accuracy: 0.8883 - val_loss: 0.2417 - val_accuracy: 0.8517\n",
      "Epoch 57/70\n",
      "19/19 [==============================] - ETA: 0s - loss: 0.1631 - accuracy: 0.8922\n",
      "Epoch 57: val_loss did not improve from 0.22091\n",
      "19/19 [==============================] - 13s 691ms/step - loss: 0.1631 - accuracy: 0.8922 - val_loss: 0.2355 - val_accuracy: 0.8564\n",
      "Epoch 58/70\n",
      "19/19 [==============================] - ETA: 0s - loss: 0.1616 - accuracy: 0.8923\n",
      "Epoch 58: val_loss did not improve from 0.22091\n",
      "19/19 [==============================] - 13s 692ms/step - loss: 0.1616 - accuracy: 0.8923 - val_loss: 0.2520 - val_accuracy: 0.8436\n",
      "Epoch 59/70\n",
      "19/19 [==============================] - ETA: 0s - loss: 0.1551 - accuracy: 0.8972\n",
      "Epoch 59: val_loss did not improve from 0.22091\n",
      "19/19 [==============================] - 13s 691ms/step - loss: 0.1551 - accuracy: 0.8972 - val_loss: 0.2374 - val_accuracy: 0.8530\n",
      "Epoch 60/70\n",
      "19/19 [==============================] - ETA: 0s - loss: 0.1522 - accuracy: 0.8972\n",
      "Epoch 60: val_loss did not improve from 0.22091\n",
      "19/19 [==============================] - 13s 692ms/step - loss: 0.1522 - accuracy: 0.8972 - val_loss: 0.2421 - val_accuracy: 0.8598\n",
      "Epoch 61/70\n",
      "19/19 [==============================] - ETA: 0s - loss: 0.1518 - accuracy: 0.9022\n",
      "Epoch 61: val_loss did not improve from 0.22091\n",
      "19/19 [==============================] - 13s 692ms/step - loss: 0.1518 - accuracy: 0.9022 - val_loss: 0.2355 - val_accuracy: 0.8526\n",
      "Epoch 62/70\n",
      "19/19 [==============================] - ETA: 0s - loss: 0.1566 - accuracy: 0.8979\n",
      "Epoch 62: val_loss did not improve from 0.22091\n",
      "19/19 [==============================] - 13s 691ms/step - loss: 0.1566 - accuracy: 0.8979 - val_loss: 0.2496 - val_accuracy: 0.8547\n",
      "Epoch 63/70\n",
      "19/19 [==============================] - ETA: 0s - loss: 0.1434 - accuracy: 0.9051\n",
      "Epoch 63: val_loss did not improve from 0.22091\n",
      "19/19 [==============================] - 13s 690ms/step - loss: 0.1434 - accuracy: 0.9051 - val_loss: 0.2434 - val_accuracy: 0.8526\n",
      "Epoch 64/70\n",
      "19/19 [==============================] - ETA: 0s - loss: 0.1439 - accuracy: 0.9061\n",
      "Epoch 64: val_loss did not improve from 0.22091\n",
      "19/19 [==============================] - 13s 692ms/step - loss: 0.1439 - accuracy: 0.9061 - val_loss: 0.2516 - val_accuracy: 0.8632\n",
      "Epoch 65/70\n",
      "19/19 [==============================] - ETA: 0s - loss: 0.1483 - accuracy: 0.9043\n",
      "Epoch 65: val_loss did not improve from 0.22091\n",
      "19/19 [==============================] - 13s 691ms/step - loss: 0.1483 - accuracy: 0.9043 - val_loss: 0.2536 - val_accuracy: 0.8594\n",
      "Epoch 66/70\n",
      "19/19 [==============================] - ETA: 0s - loss: 0.1416 - accuracy: 0.9065\n",
      "Epoch 66: val_loss did not improve from 0.22091\n",
      "19/19 [==============================] - 13s 690ms/step - loss: 0.1416 - accuracy: 0.9065 - val_loss: 0.2526 - val_accuracy: 0.8594\n",
      "Epoch 67/70\n",
      "19/19 [==============================] - ETA: 0s - loss: 0.1488 - accuracy: 0.9004\n",
      "Epoch 67: val_loss did not improve from 0.22091\n",
      "19/19 [==============================] - 13s 693ms/step - loss: 0.1488 - accuracy: 0.9004 - val_loss: 0.2594 - val_accuracy: 0.8641\n",
      "Epoch 68/70\n",
      "19/19 [==============================] - ETA: 0s - loss: 0.1442 - accuracy: 0.9096\n",
      "Epoch 68: val_loss did not improve from 0.22091\n",
      "19/19 [==============================] - 13s 692ms/step - loss: 0.1442 - accuracy: 0.9096 - val_loss: 0.2386 - val_accuracy: 0.8658\n",
      "Epoch 69/70\n",
      "19/19 [==============================] - ETA: 0s - loss: 0.1378 - accuracy: 0.9070\n",
      "Epoch 69: val_loss did not improve from 0.22091\n",
      "19/19 [==============================] - 13s 692ms/step - loss: 0.1378 - accuracy: 0.9070 - val_loss: 0.2348 - val_accuracy: 0.8603\n",
      "Epoch 70/70\n",
      "19/19 [==============================] - ETA: 0s - loss: 0.1300 - accuracy: 0.9128\n",
      "Epoch 70: val_loss did not improve from 0.22091\n",
      "19/19 [==============================] - 13s 690ms/step - loss: 0.1300 - accuracy: 0.9128 - val_loss: 0.2577 - val_accuracy: 0.8568\n"
     ]
    }
   ],
   "source": [
    "checkpointer = ModelCheckpoint(filepath='./'+'_best_weights.h5', verbose=1, monitor='val_loss', mode='auto', save_best_only=True) #save at each epoch if the validation decreased\n",
    "\n",
    "history =model.fit(x_train_new, Y_train_new, epochs=75, batch_size=512, verbose=1, validation_split=0.2, callbacks=[checkpointer])\n",
    "\n",
    "model.save('weights_BiLSTM2.h5')"
   ]
  },
  {
   "cell_type": "code",
   "execution_count": 11,
   "metadata": {},
   "outputs": [
    {
     "name": "stdout",
     "output_type": "stream",
     "text": [
      "65/65 [==============================] - 1s 22ms/step - loss: 0.2105 - accuracy: 0.8736\n",
      "Test loss: 0.21053676307201385\n",
      "Test accuracy: 0.8736077547073364\n"
     ]
    }
   ],
   "source": [
    "score = model.evaluate(x_test_new, Y_test_new, verbose=1)\n",
    "print('Test loss:', score[0])\n",
    "print('Test accuracy:', score[1])"
   ]
  },
  {
   "cell_type": "code",
   "execution_count": 12,
   "metadata": {},
   "outputs": [
    {
     "data": {
      "image/png": "[encoded data removed]",
      "text/plain": [
       "<Figure size 432x288 with 1 Axes>"
      ]
     },
     "metadata": {
      "needs_background": "light"
     },
     "output_type": "display_data"
    }
   ],
   "source": [
    "import matplotlib.pyplot as plt # shorcut for a plot function\n",
    "plt.plot(history.history['accuracy']) # training accuracy\n",
    "plt.plot(history.history['val_accuracy']) # validation accuracy\n",
    "plt.title('model accuracy')\n",
    "plt.ylabel('accuracy')\n",
    "plt.xlabel('epoch')\n",
    "plt.legend(['train', 'test'], loc='upper left')\n",
    "plt.show()"
   ]
  },
  {
   "cell_type": "code",
   "execution_count": 13,
   "metadata": {},
   "outputs": [
    {
     "data": {
      "image/png": "[encoded data removed]",
      "text/plain": [
       "<Figure size 432x288 with 1 Axes>"
      ]
     },
     "metadata": {
      "needs_background": "light"
     },
     "output_type": "display_data"
    }
   ],
   "source": [
    "plt.plot(history.history['loss'])\n",
    "plt.plot(history.history['val_loss'])\n",
    "plt.title('model loss')\n",
    "plt.ylabel('loss')\n",
    "plt.xlabel('epoch')\n",
    "plt.legend(['train', 'test'], loc='upper left')\n",
    "plt.show()"
   ]
  },
  {
   "cell_type": "code",
   "execution_count": 14,
   "metadata": {},
   "outputs": [
    {
     "name": "stdout",
     "output_type": "stream",
     "text": [
      "65/65 - 2s - 2s/epoch - 27ms/step\n",
      "predicted images size : (2065, 3)\n",
      "[[1.0000000e+00 3.6527836e-09 9.4398290e-15]\n",
      " [9.4099569e-01 5.5452738e-02 3.5515768e-03]\n",
      " [9.8764426e-01 1.2355530e-02 2.7138231e-07]\n",
      " ...\n",
      " [1.0000000e+00 1.1183968e-08 8.6276340e-11]\n",
      " [1.3129035e-06 9.9999869e-01 1.0820266e-10]\n",
      " [1.0000000e+00 3.8874962e-11 1.7530316e-14]]\n",
      "(2065, 3)\n"
     ]
    }
   ],
   "source": [
    "predictions = model.predict(x_test_new, batch_size=32, verbose=2)\n",
    "print (\"predicted images size :\",predictions.shape)\n",
    "print(predictions)\n",
    "print(Y_test_new.shape)"
   ]
  },
  {
   "cell_type": "code",
   "execution_count": 15,
   "metadata": {},
   "outputs": [
    {
     "name": "stdout",
     "output_type": "stream",
     "text": [
      "\n",
      "Confusion matrix:  Custom threshold (for positive) of 0.5\n",
      "[[832 144   4]\n",
      " [108 946   2]\n",
      " [  0   3  26]]\n"
     ]
    }
   ],
   "source": [
    "from sklearn.metrics import confusion_matrix,accuracy_score, precision_score, recall_score\n",
    "threshold_confusion = 0.5\n",
    "print (\"\\nConfusion matrix:  Custom threshold (for positive) of \" +str(threshold_confusion))\n",
    "y_pred = np.empty((predictions.shape[0]))\n",
    "y_test = np.empty((predictions.shape[0]))\n",
    "for i in range(predictions.shape[0]):\n",
    "    \n",
    "    y_pred[i]=np.argmax(predictions[i])\n",
    "    y_test[i]=np.argmax(Y_test_new[i])\n",
    "#print(y_pred)\n",
    "    \n",
    "       \n",
    "confusion = confusion_matrix(y_test,  y_pred)\n",
    "print (confusion)"
   ]
  },
  {
   "cell_type": "code",
   "execution_count": 16,
   "metadata": {},
   "outputs": [
    {
     "name": "stdout",
     "output_type": "stream",
     "text": [
      "The accuracy score on this random test-set is  : 0.8736077481840193\n",
      "recall [0.84897959 0.89583333 0.89655172] the avreage recall is  0.8804548831026664\n",
      "precision [0.88510638 0.86550778 0.8125    ] the avreage precision is  0.854371386579977\n",
      "F1_score 0.8672170492727727\n"
     ]
    }
   ],
   "source": [
    "print(\"The accuracy score on this random test-set is  :\", accuracy_score(y_test,  y_pred) )\n",
    "recall=recall_score(y_test,  y_pred, average=None)\n",
    "av_recall=sum(recall)/3\n",
    "print(\"recall\",recall, \"the avreage recall is \",av_recall)\n",
    "precision=precision_score(y_test,  y_pred,average=None)\n",
    "av_precision=sum(precision)/3\n",
    "\n",
    "print(\"precision\",precision,\"the avreage precision is \",av_precision)\n",
    "\n",
    "F1_score=(2*av_precision*av_recall)/(av_precision+av_recall)\n",
    "print(\"F1_score\",F1_score)"
   ]
  },
  {
   "cell_type": "code",
   "execution_count": null,
   "metadata": {},
   "outputs": [],
   "source": []
  }
 ],
 "metadata": {
  "interpreter": {
   "hash": "4f6408f789ce582f12455b02ab095ed2a024a668d0e40c1283b993c53328683e"
  },
  "kernelspec": {
   "display_name": "Python 3.8.12 ('tensorflow-gpu')",
   "language": "python",
   "name": "python3"
  },
  "language_info": {
   "codemirror_mode": {
    "name": "ipython",
    "version": 3
   },
   "file_extension": ".py",
   "mimetype": "text/x-python",
   "name": "python",
   "nbconvert_exporter": "python",
   "pygments_lexer": "ipython3",
   "version": "3.8.12"
  },
  "orig_nbformat": 4
 },
 "nbformat": 4,
 "nbformat_minor": 2
}
