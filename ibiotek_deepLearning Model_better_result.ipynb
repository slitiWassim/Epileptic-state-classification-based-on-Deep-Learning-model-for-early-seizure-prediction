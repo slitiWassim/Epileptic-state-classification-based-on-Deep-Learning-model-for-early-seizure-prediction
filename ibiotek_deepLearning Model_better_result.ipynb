{
 "cells": [
  {
   "cell_type": "markdown",
   "metadata": {},
   "source": [
    "After tt"
   ]
  },
  {
   "cell_type": "code",
   "execution_count": 1,
   "metadata": {},
   "outputs": [
    {
     "name": "stdout",
     "output_type": "stream",
     "text": [
      "(13762, 8)\n"
     ]
    }
   ],
   "source": [
    "import pandas as pd\n",
    "import numpy \n",
    "dataset_e1= pd.read_csv(\"./stand_norm_e1.txt\",delimiter=\" \",header=None)\n",
    "dataset_e1=numpy.array(dataset_e1,float)\n",
    "\n",
    "X_e1 = dataset_e1[:,:8]\n",
    "#m=np.max(X_e1)\n",
    "\n",
    "print(X_e1.shape)\n",
    "\n"
   ]
  },
  {
   "cell_type": "code",
   "execution_count": 2,
   "metadata": {},
   "outputs": [
    {
     "name": "stdout",
     "output_type": "stream",
     "text": [
      "(13762, 8)\n"
     ]
    }
   ],
   "source": [
    "dataset_e2= pd.read_csv(\"./stand_norm_e2.txt\",delimiter=\" \",header=None)\n",
    "dataset_e2=numpy.array(dataset_e2,float)\n",
    "\n",
    "X_e2 = dataset_e2[:,:8]\n",
    "#n=np.max(X_e2)\n",
    "#X_e2=X_e2/n\n",
    "print(X_e2.shape)\n"
   ]
  },
  {
   "cell_type": "code",
   "execution_count": 3,
   "metadata": {},
   "outputs": [
    {
     "name": "stdout",
     "output_type": "stream",
     "text": [
      "(13762, 8, 2)\n"
     ]
    }
   ],
   "source": [
    "x_train_test=numpy.zeros((X_e1.shape[0],X_e1.shape[1],2))\n",
    "x_train_test[:,:,0]=X_e1\n",
    "x_train_test[:,:,1]=X_e2\n",
    "print(x_train_test.shape)\n",
    "#print(x_test.shape)\n",
    "\n"
   ]
  },
  {
   "cell_type": "code",
   "execution_count": 4,
   "metadata": {},
   "outputs": [],
   "source": [
    "dataset_output= pd.read_csv(\"./y2_e1.txt\",delimiter=\" \",header=None)\n",
    "dataset_output=numpy.array(dataset_output,float)\n",
    "dataset_output_new= dataset_output.reshape(dataset_output.shape[0], )\n"
   ]
  },
  {
   "cell_type": "code",
   "execution_count": 5,
   "metadata": {},
   "outputs": [
    {
     "name": "stdout",
     "output_type": "stream",
     "text": [
      "(11697, 8, 2)\n",
      "(11697,)\n",
      "(11697, 3)\n",
      "(11697, 8, 2)\n",
      "(11697, 16)\n"
     ]
    }
   ],
   "source": [
    "from sklearn.model_selection import train_test_split\n",
    "x_train, x_test, y_train, y_test = train_test_split(x_train_test, dataset_output_new, test_size=0.15, random_state=42)\n",
    "x_train_new=x_train\n",
    "x_test_new=x_test\n",
    "print(x_train_new.shape)\n",
    "print(y_train.shape)\n",
    "import tensorflow\n",
    "Y_train_new = tensorflow.keras.utils.to_categorical( y_train)\n",
    "Y_test_new = tensorflow.keras.utils.to_categorical(y_test)\n",
    "print(Y_train_new.shape)\n",
    "print (x_train_new.shape)\n",
    "x_train_new=x_train_new.reshape(x_train_new.shape[0],  x_train_new.shape[1]*2, )\n",
    "x_test_new = x_test_new.reshape(x_test_new.shape[0], x_test_new.shape[1]*2, )\n",
    "print (x_train_new.shape)\n",
    "\n",
    "\n",
    "\n"
   ]
  },
  {
   "cell_type": "code",
   "execution_count": 6,
   "metadata": {},
   "outputs": [],
   "source": [
    "from sklearn import preprocessing\n",
    "r_scaler = preprocessing.RobustScaler()\n",
    "x_train_new= r_scaler.fit_transform(x_train_new)"
   ]
  },
  {
   "cell_type": "code",
   "execution_count": 7,
   "metadata": {},
   "outputs": [],
   "source": [
    "#Y_train_new= r_scaler.fit_transform(Y_train_new)\n",
    "x_test_new = r_scaler.fit_transform(x_test_new )\n"
   ]
  },
  {
   "cell_type": "code",
   "execution_count": 8,
   "metadata": {},
   "outputs": [],
   "source": [
    "\n",
    "\n",
    "import numpy as np \n",
    "import pandas as pd \n",
    "\n",
    "from keras.models import Sequential\n",
    "from keras.layers import Conv1D\n",
    "from keras.layers import MaxPooling1D , Dropout ,BatchNormalization ,GRU ,Bidirectional\n",
    "from keras.layers import Flatten\n",
    "from keras.layers import Dense\n",
    "from PIL import Image\n",
    "from keras.utils.vis_utils import plot_model\n",
    "from keras.callbacks import ModelCheckpoint\n",
    "import matplotlib.pyplot as plt\n",
    "from keras.layers import LSTM\n"
   ]
  },
  {
   "cell_type": "code",
   "execution_count": 9,
   "metadata": {},
   "outputs": [
    {
     "name": "stderr",
     "output_type": "stream",
     "text": [
      "2022-03-15 12:35:15.438375: I tensorflow/stream_executor/cuda/cuda_gpu_executor.cc:936] successful NUMA node read from SysFS had negative value (-1), but there must be at least one NUMA node, so returning NUMA node zero\n",
      "2022-03-15 12:35:15.465563: I tensorflow/stream_executor/cuda/cuda_gpu_executor.cc:936] successful NUMA node read from SysFS had negative value (-1), but there must be at least one NUMA node, so returning NUMA node zero\n",
      "2022-03-15 12:35:15.465941: I tensorflow/stream_executor/cuda/cuda_gpu_executor.cc:936] successful NUMA node read from SysFS had negative value (-1), but there must be at least one NUMA node, so returning NUMA node zero\n",
      "2022-03-15 12:35:15.466625: I tensorflow/core/platform/cpu_feature_guard.cc:151] This TensorFlow binary is optimized with oneAPI Deep Neural Network Library (oneDNN) to use the following CPU instructions in performance-critical operations:  AVX2 FMA\n",
      "To enable them in other operations, rebuild TensorFlow with the appropriate compiler flags.\n",
      "2022-03-15 12:35:15.467159: I tensorflow/stream_executor/cuda/cuda_gpu_executor.cc:936] successful NUMA node read from SysFS had negative value (-1), but there must be at least one NUMA node, so returning NUMA node zero\n",
      "2022-03-15 12:35:15.467497: I tensorflow/stream_executor/cuda/cuda_gpu_executor.cc:936] successful NUMA node read from SysFS had negative value (-1), but there must be at least one NUMA node, so returning NUMA node zero\n",
      "2022-03-15 12:35:15.467695: I tensorflow/stream_executor/cuda/cuda_gpu_executor.cc:936] successful NUMA node read from SysFS had negative value (-1), but there must be at least one NUMA node, so returning NUMA node zero\n",
      "2022-03-15 12:35:15.901837: I tensorflow/stream_executor/cuda/cuda_gpu_executor.cc:936] successful NUMA node read from SysFS had negative value (-1), but there must be at least one NUMA node, so returning NUMA node zero\n",
      "2022-03-15 12:35:15.902037: I tensorflow/stream_executor/cuda/cuda_gpu_executor.cc:936] successful NUMA node read from SysFS had negative value (-1), but there must be at least one NUMA node, so returning NUMA node zero\n",
      "2022-03-15 12:35:15.902159: I tensorflow/stream_executor/cuda/cuda_gpu_executor.cc:936] successful NUMA node read from SysFS had negative value (-1), but there must be at least one NUMA node, so returning NUMA node zero\n",
      "2022-03-15 12:35:15.902262: I tensorflow/core/common_runtime/gpu/gpu_device.cc:1525] Created device /job:localhost/replica:0/task:0/device:GPU:0 with 2044 MB memory:  -> device: 0, name: NVIDIA GeForce GTX 1650, pci bus id: 0000:01:00.0, compute capability: 7.5\n"
     ]
    },
    {
     "name": "stdout",
     "output_type": "stream",
     "text": [
      "WARNING:tensorflow:Layer lstm_1 will not use cuDNN kernels since it doesn't meet the criteria. It will use a generic GPU kernel as fallback when running on GPU.\n",
      "WARNING:tensorflow:Layer lstm_1 will not use cuDNN kernels since it doesn't meet the criteria. It will use a generic GPU kernel as fallback when running on GPU.\n",
      "WARNING:tensorflow:Layer lstm_1 will not use cuDNN kernels since it doesn't meet the criteria. It will use a generic GPU kernel as fallback when running on GPU.\n",
      "Model: \"sequential\"\n",
      "_________________________________________________________________\n",
      " Layer (type)                Output Shape              Param #   \n",
      "=================================================================\n",
      " lstm (LSTM)                 (None, 16, 1024)          4202496   \n",
      "                                                                 \n",
      " dropout (Dropout)           (None, 16, 1024)          0         \n",
      "                                                                 \n",
      " bidirectional (Bidirectiona  (None, 2048)             16785408  \n",
      " l)                                                              \n",
      "                                                                 \n",
      " dropout_1 (Dropout)         (None, 2048)              0         \n",
      "                                                                 \n",
      " batch_normalization (BatchN  (None, 2048)             8192      \n",
      " ormalization)                                                   \n",
      "                                                                 \n",
      " dropout_2 (Dropout)         (None, 2048)              0         \n",
      "                                                                 \n",
      " dense (Dense)               (None, 256)               524544    \n",
      "                                                                 \n",
      " dense_1 (Dense)             (None, 3)                 771       \n",
      "                                                                 \n",
      "=================================================================\n",
      "Total params: 21,521,411\n",
      "Trainable params: 21,517,315\n",
      "Non-trainable params: 4,096\n",
      "_________________________________________________________________\n",
      "None\n"
     ]
    }
   ],
   "source": [
    "model = Sequential()\n",
    "model.add(LSTM(1024,return_sequences=True,input_shape=(16,1)))\n",
    "model.add(Dropout(0.2))\n",
    "model.add(Bidirectional(LSTM(1024, activation='relu'))) #elu\n",
    "model.add(Dropout(0.5))\n",
    "#model.add(Bidirectional(LSTM(500, dropout=0.5)))\n",
    "model.add(BatchNormalization(momentum=0.6))\n",
    "model.add(Dropout(0.5))\n",
    "model.add(Dense(256, activation='relu'))\n",
    "model.add(Dense(3, activation='softmax'))\n",
    "model.compile(loss='binary_crossentropy', optimizer='adam', metrics=['accuracy'])\n",
    "print(model.summary()) "
   ]
  },
  {
   "cell_type": "code",
   "execution_count": 10,
   "metadata": {},
   "outputs": [
    {
     "name": "stdout",
     "output_type": "stream",
     "text": [
      "Epoch 1/50\n"
     ]
    },
    {
     "name": "stderr",
     "output_type": "stream",
     "text": [
      "2022-03-15 12:35:26.319980: I tensorflow/stream_executor/cuda/cuda_dnn.cc:368] Loaded cuDNN version 8302\n"
     ]
    },
    {
     "name": "stdout",
     "output_type": "stream",
     "text": [
      "19/19 [==============================] - ETA: 0s - loss: 0.5029 - accuracy: 0.6474\n",
      "Epoch 1: val_loss improved from inf to 0.49439, saving model to ./_best_weights.h5\n",
      "19/19 [==============================] - 20s 868ms/step - loss: 0.5029 - accuracy: 0.6474 - val_loss: 0.4944 - val_accuracy: 0.7218\n",
      "Epoch 2/50\n",
      "19/19 [==============================] - ETA: 0s - loss: 0.4075 - accuracy: 0.7251\n",
      "Epoch 2: val_loss improved from 0.49439 to 0.38012, saving model to ./_best_weights.h5\n",
      "19/19 [==============================] - 16s 850ms/step - loss: 0.4075 - accuracy: 0.7251 - val_loss: 0.3801 - val_accuracy: 0.7312\n",
      "Epoch 3/50\n",
      "19/19 [==============================] - ETA: 0s - loss: 0.3910 - accuracy: 0.7293\n",
      "Epoch 3: val_loss did not improve from 0.38012\n",
      "19/19 [==============================] - 13s 702ms/step - loss: 0.3910 - accuracy: 0.7293 - val_loss: 0.6548 - val_accuracy: 0.7256\n",
      "Epoch 4/50\n",
      "19/19 [==============================] - ETA: 0s - loss: 0.3761 - accuracy: 0.7398\n",
      "Epoch 4: val_loss did not improve from 0.38012\n",
      "19/19 [==============================] - 13s 702ms/step - loss: 0.3761 - accuracy: 0.7398 - val_loss: 0.3938 - val_accuracy: 0.7355\n",
      "Epoch 5/50\n",
      "19/19 [==============================] - ETA: 0s - loss: 0.3721 - accuracy: 0.7439\n",
      "Epoch 5: val_loss did not improve from 0.38012\n",
      "19/19 [==============================] - 13s 706ms/step - loss: 0.3721 - accuracy: 0.7439 - val_loss: 0.4645 - val_accuracy: 0.7363\n",
      "Epoch 6/50\n",
      "19/19 [==============================] - ETA: 0s - loss: 0.3645 - accuracy: 0.7453\n",
      "Epoch 6: val_loss improved from 0.38012 to 0.35051, saving model to ./_best_weights.h5\n",
      "19/19 [==============================] - 16s 857ms/step - loss: 0.3645 - accuracy: 0.7453 - val_loss: 0.3505 - val_accuracy: 0.7513\n",
      "Epoch 7/50\n",
      "19/19 [==============================] - ETA: 0s - loss: 0.3499 - accuracy: 0.7595\n",
      "Epoch 7: val_loss did not improve from 0.35051\n",
      "19/19 [==============================] - 13s 705ms/step - loss: 0.3499 - accuracy: 0.7595 - val_loss: 0.3908 - val_accuracy: 0.7662\n",
      "Epoch 8/50\n",
      "19/19 [==============================] - ETA: 0s - loss: 0.3371 - accuracy: 0.7712\n",
      "Epoch 8: val_loss did not improve from 0.35051\n",
      "19/19 [==============================] - 13s 705ms/step - loss: 0.3371 - accuracy: 0.7712 - val_loss: 0.3580 - val_accuracy: 0.7761\n",
      "Epoch 9/50\n",
      "19/19 [==============================] - ETA: 0s - loss: 0.3345 - accuracy: 0.7731\n",
      "Epoch 9: val_loss improved from 0.35051 to 0.32532, saving model to ./_best_weights.h5\n",
      "19/19 [==============================] - 16s 856ms/step - loss: 0.3345 - accuracy: 0.7731 - val_loss: 0.3253 - val_accuracy: 0.7885\n",
      "Epoch 10/50\n",
      "19/19 [==============================] - ETA: 0s - loss: 0.3207 - accuracy: 0.7873\n",
      "Epoch 10: val_loss did not improve from 0.32532\n",
      "19/19 [==============================] - 13s 706ms/step - loss: 0.3207 - accuracy: 0.7873 - val_loss: 2.4920 - val_accuracy: 0.7923\n",
      "Epoch 11/50\n",
      "19/19 [==============================] - ETA: 0s - loss: 0.3164 - accuracy: 0.7866\n",
      "Epoch 11: val_loss did not improve from 0.32532\n",
      "19/19 [==============================] - 13s 708ms/step - loss: 0.3164 - accuracy: 0.7866 - val_loss: 0.3295 - val_accuracy: 0.7791\n",
      "Epoch 12/50\n",
      "19/19 [==============================] - ETA: 0s - loss: 0.3029 - accuracy: 0.7988\n",
      "Epoch 12: val_loss improved from 0.32532 to 0.30333, saving model to ./_best_weights.h5\n",
      "19/19 [==============================] - 16s 864ms/step - loss: 0.3029 - accuracy: 0.7988 - val_loss: 0.3033 - val_accuracy: 0.8060\n",
      "Epoch 13/50\n",
      "19/19 [==============================] - ETA: 0s - loss: 0.2972 - accuracy: 0.7995\n",
      "Epoch 13: val_loss did not improve from 0.30333\n",
      "19/19 [==============================] - 13s 709ms/step - loss: 0.2972 - accuracy: 0.7995 - val_loss: 0.3188 - val_accuracy: 0.7915\n",
      "Epoch 14/50\n",
      "19/19 [==============================] - ETA: 0s - loss: 0.2935 - accuracy: 0.8028\n",
      "Epoch 14: val_loss did not improve from 0.30333\n",
      "19/19 [==============================] - 13s 705ms/step - loss: 0.2935 - accuracy: 0.8028 - val_loss: 0.3590 - val_accuracy: 0.7722\n",
      "Epoch 15/50\n",
      "19/19 [==============================] - ETA: 0s - loss: 0.2939 - accuracy: 0.8050\n",
      "Epoch 15: val_loss improved from 0.30333 to 0.30273, saving model to ./_best_weights.h5\n",
      "19/19 [==============================] - 16s 846ms/step - loss: 0.2939 - accuracy: 0.8050 - val_loss: 0.3027 - val_accuracy: 0.8043\n",
      "Epoch 16/50\n",
      "19/19 [==============================] - ETA: 0s - loss: 0.2817 - accuracy: 0.8148\n",
      "Epoch 16: val_loss improved from 0.30273 to 0.28162, saving model to ./_best_weights.h5\n",
      "19/19 [==============================] - 16s 850ms/step - loss: 0.2817 - accuracy: 0.8148 - val_loss: 0.2816 - val_accuracy: 0.8094\n",
      "Epoch 17/50\n",
      "19/19 [==============================] - ETA: 0s - loss: 0.2704 - accuracy: 0.8185\n",
      "Epoch 17: val_loss improved from 0.28162 to 0.27062, saving model to ./_best_weights.h5\n",
      "19/19 [==============================] - 16s 848ms/step - loss: 0.2704 - accuracy: 0.8185 - val_loss: 0.2706 - val_accuracy: 0.8248\n",
      "Epoch 18/50\n",
      "19/19 [==============================] - ETA: 0s - loss: 0.2682 - accuracy: 0.8217\n",
      "Epoch 18: val_loss did not improve from 0.27062\n",
      "19/19 [==============================] - 13s 706ms/step - loss: 0.2682 - accuracy: 0.8217 - val_loss: 0.2722 - val_accuracy: 0.8205\n",
      "Epoch 19/50\n",
      "19/19 [==============================] - ETA: 0s - loss: 0.2568 - accuracy: 0.8293\n",
      "Epoch 19: val_loss did not improve from 0.27062\n",
      "19/19 [==============================] - 13s 708ms/step - loss: 0.2568 - accuracy: 0.8293 - val_loss: 0.3132 - val_accuracy: 0.8098\n",
      "Epoch 20/50\n",
      "19/19 [==============================] - ETA: 0s - loss: 0.2644 - accuracy: 0.8240\n",
      "Epoch 20: val_loss did not improve from 0.27062\n",
      "19/19 [==============================] - 13s 710ms/step - loss: 0.2644 - accuracy: 0.8240 - val_loss: 0.2764 - val_accuracy: 0.8188\n",
      "Epoch 21/50\n",
      "19/19 [==============================] - ETA: 0s - loss: 0.2493 - accuracy: 0.8346\n",
      "Epoch 21: val_loss improved from 0.27062 to 0.25940, saving model to ./_best_weights.h5\n",
      "19/19 [==============================] - 16s 849ms/step - loss: 0.2493 - accuracy: 0.8346 - val_loss: 0.2594 - val_accuracy: 0.8171\n",
      "Epoch 22/50\n",
      "19/19 [==============================] - ETA: 0s - loss: 0.2412 - accuracy: 0.8408\n",
      "Epoch 22: val_loss improved from 0.25940 to 0.24474, saving model to ./_best_weights.h5\n",
      "19/19 [==============================] - 16s 847ms/step - loss: 0.2412 - accuracy: 0.8408 - val_loss: 0.2447 - val_accuracy: 0.8295\n",
      "Epoch 23/50\n",
      "19/19 [==============================] - ETA: 0s - loss: 0.2328 - accuracy: 0.8447\n",
      "Epoch 23: val_loss did not improve from 0.24474\n",
      "19/19 [==============================] - 13s 708ms/step - loss: 0.2328 - accuracy: 0.8447 - val_loss: 0.2680 - val_accuracy: 0.8226\n",
      "Epoch 24/50\n",
      "19/19 [==============================] - ETA: 0s - loss: 0.2281 - accuracy: 0.8477\n",
      "Epoch 24: val_loss did not improve from 0.24474\n",
      "19/19 [==============================] - 13s 711ms/step - loss: 0.2281 - accuracy: 0.8477 - val_loss: 0.3218 - val_accuracy: 0.8278\n",
      "Epoch 25/50\n",
      "19/19 [==============================] - ETA: 0s - loss: 0.2267 - accuracy: 0.8487\n",
      "Epoch 25: val_loss did not improve from 0.24474\n",
      "19/19 [==============================] - 13s 693ms/step - loss: 0.2267 - accuracy: 0.8487 - val_loss: 0.2747 - val_accuracy: 0.8184\n",
      "Epoch 26/50\n",
      "19/19 [==============================] - ETA: 0s - loss: 0.2236 - accuracy: 0.8513\n",
      "Epoch 26: val_loss improved from 0.24474 to 0.23495, saving model to ./_best_weights.h5\n",
      "19/19 [==============================] - 16s 825ms/step - loss: 0.2236 - accuracy: 0.8513 - val_loss: 0.2350 - val_accuracy: 0.8436\n",
      "Epoch 27/50\n",
      "19/19 [==============================] - ETA: 0s - loss: 0.2168 - accuracy: 0.8563\n",
      "Epoch 27: val_loss did not improve from 0.23495\n",
      "19/19 [==============================] - 13s 690ms/step - loss: 0.2168 - accuracy: 0.8563 - val_loss: 0.2535 - val_accuracy: 0.8372\n",
      "Epoch 28/50\n",
      "19/19 [==============================] - ETA: 0s - loss: 0.2265 - accuracy: 0.8509\n",
      "Epoch 28: val_loss did not improve from 0.23495\n",
      "19/19 [==============================] - 13s 691ms/step - loss: 0.2265 - accuracy: 0.8509 - val_loss: 0.2458 - val_accuracy: 0.8363\n",
      "Epoch 29/50\n",
      "19/19 [==============================] - ETA: 0s - loss: 0.2200 - accuracy: 0.8528\n",
      "Epoch 29: val_loss did not improve from 0.23495\n",
      "19/19 [==============================] - 13s 691ms/step - loss: 0.2200 - accuracy: 0.8528 - val_loss: 0.2463 - val_accuracy: 0.8346\n",
      "Epoch 30/50\n",
      "19/19 [==============================] - ETA: 0s - loss: 0.2161 - accuracy: 0.8531\n",
      "Epoch 30: val_loss did not improve from 0.23495\n",
      "19/19 [==============================] - 13s 690ms/step - loss: 0.2161 - accuracy: 0.8531 - val_loss: 0.2385 - val_accuracy: 0.8453\n",
      "Epoch 31/50\n",
      "19/19 [==============================] - ETA: 0s - loss: 0.2114 - accuracy: 0.8617\n",
      "Epoch 31: val_loss did not improve from 0.23495\n",
      "19/19 [==============================] - 13s 690ms/step - loss: 0.2114 - accuracy: 0.8617 - val_loss: 0.2751 - val_accuracy: 0.8201\n",
      "Epoch 32/50\n",
      "19/19 [==============================] - ETA: 0s - loss: 0.2379 - accuracy: 0.8416\n",
      "Epoch 32: val_loss did not improve from 0.23495\n",
      "19/19 [==============================] - 13s 692ms/step - loss: 0.2379 - accuracy: 0.8416 - val_loss: 0.2453 - val_accuracy: 0.8415\n",
      "Epoch 33/50\n",
      "19/19 [==============================] - ETA: 0s - loss: 0.2140 - accuracy: 0.8619\n",
      "Epoch 33: val_loss did not improve from 0.23495\n",
      "19/19 [==============================] - 13s 692ms/step - loss: 0.2140 - accuracy: 0.8619 - val_loss: 0.2573 - val_accuracy: 0.8321\n",
      "Epoch 34/50\n",
      "19/19 [==============================] - ETA: 0s - loss: 0.2077 - accuracy: 0.8599\n",
      "Epoch 34: val_loss did not improve from 0.23495\n",
      "19/19 [==============================] - 13s 690ms/step - loss: 0.2077 - accuracy: 0.8599 - val_loss: 0.2615 - val_accuracy: 0.8303\n",
      "Epoch 35/50\n",
      "19/19 [==============================] - ETA: 0s - loss: 0.2097 - accuracy: 0.8581\n",
      "Epoch 35: val_loss improved from 0.23495 to 0.22987, saving model to ./_best_weights.h5\n",
      "19/19 [==============================] - 16s 835ms/step - loss: 0.2097 - accuracy: 0.8581 - val_loss: 0.2299 - val_accuracy: 0.8466\n",
      "Epoch 36/50\n",
      "19/19 [==============================] - ETA: 0s - loss: 0.1980 - accuracy: 0.8695\n",
      "Epoch 36: val_loss did not improve from 0.22987\n",
      "19/19 [==============================] - 13s 688ms/step - loss: 0.1980 - accuracy: 0.8695 - val_loss: 0.2413 - val_accuracy: 0.8457\n",
      "Epoch 37/50\n",
      "19/19 [==============================] - ETA: 0s - loss: 0.1960 - accuracy: 0.8713\n",
      "Epoch 37: val_loss improved from 0.22987 to 0.22425, saving model to ./_best_weights.h5\n",
      "19/19 [==============================] - 16s 828ms/step - loss: 0.1960 - accuracy: 0.8713 - val_loss: 0.2242 - val_accuracy: 0.8573\n",
      "Epoch 38/50\n",
      "19/19 [==============================] - ETA: 0s - loss: 0.1894 - accuracy: 0.8722\n",
      "Epoch 38: val_loss did not improve from 0.22425\n",
      "19/19 [==============================] - 13s 691ms/step - loss: 0.1894 - accuracy: 0.8722 - val_loss: 0.2575 - val_accuracy: 0.8453\n",
      "Epoch 39/50\n",
      "19/19 [==============================] - ETA: 0s - loss: 0.1950 - accuracy: 0.8699\n",
      "Epoch 39: val_loss did not improve from 0.22425\n",
      "19/19 [==============================] - 13s 693ms/step - loss: 0.1950 - accuracy: 0.8699 - val_loss: 0.2305 - val_accuracy: 0.8500\n",
      "Epoch 40/50\n",
      "19/19 [==============================] - ETA: 0s - loss: 0.1930 - accuracy: 0.8683\n",
      "Epoch 40: val_loss did not improve from 0.22425\n",
      "19/19 [==============================] - 13s 691ms/step - loss: 0.1930 - accuracy: 0.8683 - val_loss: 0.2374 - val_accuracy: 0.8556\n",
      "Epoch 41/50\n",
      "19/19 [==============================] - ETA: 0s - loss: 0.1935 - accuracy: 0.8710\n",
      "Epoch 41: val_loss did not improve from 0.22425\n",
      "19/19 [==============================] - 13s 691ms/step - loss: 0.1935 - accuracy: 0.8710 - val_loss: 0.2366 - val_accuracy: 0.8509\n",
      "Epoch 42/50\n",
      "19/19 [==============================] - ETA: 0s - loss: 0.1925 - accuracy: 0.8692\n",
      "Epoch 42: val_loss did not improve from 0.22425\n",
      "19/19 [==============================] - 13s 690ms/step - loss: 0.1925 - accuracy: 0.8692 - val_loss: 0.2433 - val_accuracy: 0.8517\n",
      "Epoch 43/50\n",
      "19/19 [==============================] - ETA: 0s - loss: 0.1855 - accuracy: 0.8778\n",
      "Epoch 43: val_loss improved from 0.22425 to 0.22332, saving model to ./_best_weights.h5\n",
      "19/19 [==============================] - 16s 829ms/step - loss: 0.1855 - accuracy: 0.8778 - val_loss: 0.2233 - val_accuracy: 0.8547\n",
      "Epoch 44/50\n",
      "19/19 [==============================] - ETA: 0s - loss: 0.1782 - accuracy: 0.8812\n",
      "Epoch 44: val_loss did not improve from 0.22332\n",
      "19/19 [==============================] - 13s 689ms/step - loss: 0.1782 - accuracy: 0.8812 - val_loss: 0.2557 - val_accuracy: 0.8372\n",
      "Epoch 45/50\n",
      "19/19 [==============================] - ETA: 0s - loss: 0.1769 - accuracy: 0.8862\n",
      "Epoch 45: val_loss did not improve from 0.22332\n",
      "19/19 [==============================] - 13s 693ms/step - loss: 0.1769 - accuracy: 0.8862 - val_loss: 0.2395 - val_accuracy: 0.8513\n",
      "Epoch 46/50\n",
      "19/19 [==============================] - ETA: 0s - loss: 0.1827 - accuracy: 0.8800\n",
      "Epoch 46: val_loss did not improve from 0.22332\n",
      "19/19 [==============================] - 13s 690ms/step - loss: 0.1827 - accuracy: 0.8800 - val_loss: 0.2356 - val_accuracy: 0.8474\n",
      "Epoch 47/50\n",
      "19/19 [==============================] - ETA: 0s - loss: 0.1787 - accuracy: 0.8807\n",
      "Epoch 47: val_loss did not improve from 0.22332\n",
      "19/19 [==============================] - 13s 692ms/step - loss: 0.1787 - accuracy: 0.8807 - val_loss: 0.2329 - val_accuracy: 0.8590\n",
      "Epoch 48/50\n",
      "19/19 [==============================] - ETA: 0s - loss: 0.1796 - accuracy: 0.8853\n",
      "Epoch 48: val_loss did not improve from 0.22332\n",
      "19/19 [==============================] - 13s 691ms/step - loss: 0.1796 - accuracy: 0.8853 - val_loss: 0.2300 - val_accuracy: 0.8641\n",
      "Epoch 49/50\n",
      "19/19 [==============================] - ETA: 0s - loss: 0.1830 - accuracy: 0.8804\n",
      "Epoch 49: val_loss did not improve from 0.22332\n",
      "19/19 [==============================] - 13s 692ms/step - loss: 0.1830 - accuracy: 0.8804 - val_loss: 0.2275 - val_accuracy: 0.8538\n",
      "Epoch 50/50\n",
      "19/19 [==============================] - ETA: 0s - loss: 0.1781 - accuracy: 0.8837\n",
      "Epoch 50: val_loss did not improve from 0.22332\n",
      "19/19 [==============================] - 13s 691ms/step - loss: 0.1781 - accuracy: 0.8837 - val_loss: 0.2509 - val_accuracy: 0.8577\n"
     ]
    }
   ],
   "source": [
    "checkpointer = ModelCheckpoint(filepath='./'+'_best_weights.h5', verbose=1, monitor='val_loss', mode='auto', save_best_only=True) #save at each epoch if the validation decreased\n",
    "\n",
    "history =model.fit(x_train_new, Y_train_new, epochs=50, batch_size=512, verbose=1, validation_split=0.2, callbacks=[checkpointer])\n",
    "\n",
    "model.save('weights_BiLSTM2.h5')"
   ]
  },
  {
   "cell_type": "code",
   "execution_count": 11,
   "metadata": {},
   "outputs": [
    {
     "name": "stdout",
     "output_type": "stream",
     "text": [
      "65/65 [==============================] - 1s 22ms/step - loss: 0.2036 - accuracy: 0.8615\n",
      "Test loss: 0.20356187224388123\n",
      "Test accuracy: 0.8615012168884277\n"
     ]
    }
   ],
   "source": [
    "score = model.evaluate(x_test_new, Y_test_new, verbose=1)\n",
    "print('Test loss:', score[0])\n",
    "print('Test accuracy:', score[1])"
   ]
  },
  {
   "cell_type": "code",
   "execution_count": 12,
   "metadata": {},
   "outputs": [
    {
     "data": {
      "image/png": "[encoded data removed]",
      "text/plain": [
       "<Figure size 432x288 with 1 Axes>"
      ]
     },
     "metadata": {
      "needs_background": "light"
     },
     "output_type": "display_data"
    }
   ],
   "source": [
    "import matplotlib.pyplot as plt # shorcut for a plot function\n",
    "plt.plot(history.history['accuracy']) # training accuracy\n",
    "plt.plot(history.history['val_accuracy']) # validation accuracy\n",
    "plt.title('model accuracy')\n",
    "plt.ylabel('accuracy')\n",
    "plt.xlabel('epoch')\n",
    "plt.legend(['train', 'test'], loc='upper left')\n",
    "plt.show()"
   ]
  },
  {
   "cell_type": "code",
   "execution_count": 13,
   "metadata": {},
   "outputs": [
    {
     "data": {
      "image/png": "[encoded data removed]",
      "text/plain": [
       "<Figure size 432x288 with 1 Axes>"
      ]
     },
     "metadata": {
      "needs_background": "light"
     },
     "output_type": "display_data"
    }
   ],
   "source": [
    "plt.plot(history.history['loss'])\n",
    "plt.plot(history.history['val_loss'])\n",
    "plt.title('model loss')\n",
    "plt.ylabel('loss')\n",
    "plt.xlabel('epoch')\n",
    "plt.legend(['train', 'test'], loc='upper left')\n",
    "plt.show()"
   ]
  },
  {
   "cell_type": "code",
   "execution_count": 14,
   "metadata": {},
   "outputs": [
    {
     "name": "stdout",
     "output_type": "stream",
     "text": [
      "65/65 - 2s - 2s/epoch - 29ms/step\n",
      "predicted images size : (2065, 3)\n",
      "[[9.9999940e-01 6.5331596e-07 3.7456024e-12]\n",
      " [9.9999571e-01 4.0573045e-06 2.7574038e-07]\n",
      " [9.9887592e-01 1.1240375e-03 7.0954986e-10]\n",
      " ...\n",
      " [9.9999988e-01 9.5761997e-08 7.1843066e-11]\n",
      " [5.6488325e-08 1.0000000e+00 8.8916244e-12]\n",
      " [9.9999928e-01 7.6362238e-07 7.5639573e-12]]\n",
      "(2065, 3)\n"
     ]
    }
   ],
   "source": [
    "predictions = model.predict(x_test_new, batch_size=32, verbose=2)\n",
    "print (\"predicted images size :\",predictions.shape)\n",
    "print(predictions)\n",
    "print(Y_test_new.shape)"
   ]
  },
  {
   "cell_type": "code",
   "execution_count": 15,
   "metadata": {},
   "outputs": [
    {
     "name": "stdout",
     "output_type": "stream",
     "text": [
      "\n",
      "Confusion matrix:  Custom threshold (for positive) of 0.5\n",
      "[[833 143   4]\n",
      " [134 920   2]\n",
      " [  1   2  26]]\n"
     ]
    }
   ],
   "source": [
    "from sklearn.metrics import confusion_matrix,accuracy_score, precision_score, recall_score\n",
    "threshold_confusion = 0.5\n",
    "print (\"\\nConfusion matrix:  Custom threshold (for positive) of \" +str(threshold_confusion))\n",
    "y_pred = np.empty((predictions.shape[0]))\n",
    "y_test = np.empty((predictions.shape[0]))\n",
    "for i in range(predictions.shape[0]):\n",
    "    \n",
    "    y_pred[i]=np.argmax(predictions[i])\n",
    "    y_test[i]=np.argmax(Y_test_new[i])\n",
    "#print(y_pred)\n",
    "    \n",
    "       \n",
    "confusion = confusion_matrix(y_test,  y_pred)\n",
    "print (confusion)"
   ]
  },
  {
   "cell_type": "code",
   "execution_count": 16,
   "metadata": {},
   "outputs": [
    {
     "name": "stdout",
     "output_type": "stream",
     "text": [
      "The accuracy score on this random test-set is  : 0.8615012106537531\n",
      "recall [0.85       0.87121212 0.89655172] the avreage recall is  0.8725879484500174\n",
      "precision [0.86053719 0.86384977 0.8125    ] the avreage precision is  0.8456289851136202\n",
      "F1_score 0.8588969726188944\n"
     ]
    }
   ],
   "source": [
    "print(\"The accuracy score on this random test-set is  :\", accuracy_score(y_test,  y_pred) )\n",
    "recall=recall_score(y_test,  y_pred, average=None)\n",
    "av_recall=sum(recall)/3\n",
    "print(\"recall\",recall, \"the avreage recall is \",av_recall)\n",
    "precision=precision_score(y_test,  y_pred,average=None)\n",
    "av_precision=sum(precision)/3\n",
    "\n",
    "print(\"precision\",precision,\"the avreage precision is \",av_precision)\n",
    "\n",
    "F1_score=(2*av_precision*av_recall)/(av_precision+av_recall)\n",
    "print(\"F1_score\",F1_score)"
   ]
  },
  {
   "cell_type": "code",
   "execution_count": null,
   "metadata": {},
   "outputs": [],
   "source": []
  }
 ],
 "metadata": {
  "interpreter": {
   "hash": "4f6408f789ce582f12455b02ab095ed2a024a668d0e40c1283b993c53328683e"
  },
  "kernelspec": {
   "display_name": "Python 3.8.12 ('tensorflow-gpu')",
   "language": "python",
   "name": "python3"
  },
  "language_info": {
   "codemirror_mode": {
    "name": "ipython",
    "version": 3
   },
   "file_extension": ".py",
   "mimetype": "text/x-python",
   "name": "python",
   "nbconvert_exporter": "python",
   "pygments_lexer": "ipython3",
   "version": "3.8.12"
  },
  "orig_nbformat": 4
 },
 "nbformat": 4,
 "nbformat_minor": 2
}
