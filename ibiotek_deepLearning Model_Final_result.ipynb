{
 "cells": [
  {
   "cell_type": "markdown",
   "metadata": {},
   "source": [
    "After tt"
   ]
  },
  {
   "cell_type": "code",
   "execution_count": 1,
   "metadata": {},
   "outputs": [
    {
     "name": "stdout",
     "output_type": "stream",
     "text": [
      "(13762, 8)\n"
     ]
    }
   ],
   "source": [
    "import pandas as pd\n",
    "import numpy \n",
    "dataset_e1= pd.read_csv(\"./stand_norm_e1.txt\",delimiter=\" \",header=None)\n",
    "dataset_e1=numpy.array(dataset_e1,float)\n",
    "\n",
    "X_e1 = dataset_e1[:,:8]\n",
    "#m=np.max(X_e1)\n",
    "\n",
    "print(X_e1.shape)\n",
    "\n"
   ]
  },
  {
   "cell_type": "code",
   "execution_count": 2,
   "metadata": {},
   "outputs": [
    {
     "name": "stdout",
     "output_type": "stream",
     "text": [
      "(13762, 8)\n"
     ]
    }
   ],
   "source": [
    "dataset_e2= pd.read_csv(\"./stand_norm_e2.txt\",delimiter=\" \",header=None)\n",
    "dataset_e2=numpy.array(dataset_e2,float)\n",
    "\n",
    "X_e2 = dataset_e2[:,:8]\n",
    "#n=np.max(X_e2)\n",
    "#X_e2=X_e2/n\n",
    "print(X_e2.shape)\n"
   ]
  },
  {
   "cell_type": "code",
   "execution_count": 3,
   "metadata": {},
   "outputs": [
    {
     "name": "stdout",
     "output_type": "stream",
     "text": [
      "(13762, 8, 2)\n"
     ]
    }
   ],
   "source": [
    "x_train_test=numpy.zeros((X_e1.shape[0],X_e1.shape[1],2))\n",
    "x_train_test[:,:,0]=X_e1\n",
    "x_train_test[:,:,1]=X_e2\n",
    "print(x_train_test.shape)\n",
    "#print(x_test.shape)\n",
    "\n"
   ]
  },
  {
   "cell_type": "code",
   "execution_count": 4,
   "metadata": {},
   "outputs": [],
   "source": [
    "dataset_output= pd.read_csv(\"./y2_e1.txt\",delimiter=\" \",header=None)\n",
    "dataset_output=numpy.array(dataset_output,float)\n",
    "dataset_output_new= dataset_output.reshape(dataset_output.shape[0], )\n"
   ]
  },
  {
   "cell_type": "code",
   "execution_count": 5,
   "metadata": {},
   "outputs": [
    {
     "name": "stdout",
     "output_type": "stream",
     "text": [
      "(11697, 8, 2)\n",
      "(11697,)\n",
      "(11697, 3)\n",
      "(11697, 8, 2)\n",
      "(11697, 16)\n"
     ]
    }
   ],
   "source": [
    "from sklearn.model_selection import train_test_split\n",
    "x_train, x_test, y_train, y_test = train_test_split(x_train_test, dataset_output_new, test_size=0.15, random_state=42)\n",
    "x_train_new=x_train\n",
    "x_test_new=x_test\n",
    "print(x_train_new.shape)\n",
    "print(y_train.shape)\n",
    "import tensorflow\n",
    "Y_train_new = tensorflow.keras.utils.to_categorical( y_train)\n",
    "Y_test_new = tensorflow.keras.utils.to_categorical(y_test)\n",
    "print(Y_train_new.shape)\n",
    "print (x_train_new.shape)\n",
    "x_train_new=x_train_new.reshape(x_train_new.shape[0],  x_train_new.shape[1]*2, )\n",
    "x_test_new = x_test_new.reshape(x_test_new.shape[0], x_test_new.shape[1]*2, )\n",
    "print (x_train_new.shape)\n",
    "\n",
    "\n",
    "\n"
   ]
  },
  {
   "cell_type": "code",
   "execution_count": 6,
   "metadata": {},
   "outputs": [],
   "source": [
    "from sklearn import preprocessing\n",
    "r_scaler = preprocessing.RobustScaler()\n",
    "x_train_new= r_scaler.fit_transform(x_train_new)"
   ]
  },
  {
   "cell_type": "code",
   "execution_count": 7,
   "metadata": {},
   "outputs": [],
   "source": [
    "#Y_train_new= r_scaler.fit_transform(Y_train_new)\n",
    "x_test_new = r_scaler.fit_transform(x_test_new )\n"
   ]
  },
  {
   "cell_type": "code",
   "execution_count": 8,
   "metadata": {},
   "outputs": [],
   "source": [
    "\n",
    "\n",
    "import numpy as np \n",
    "import pandas as pd \n",
    "\n",
    "from keras.models import Sequential\n",
    "from keras.layers import Conv1D\n",
    "from keras.layers import MaxPooling1D , Dropout ,BatchNormalization ,GRU ,Bidirectional\n",
    "from keras.layers import Flatten\n",
    "from keras.layers import Dense\n",
    "from PIL import Image\n",
    "from keras.utils.vis_utils import plot_model\n",
    "from keras.callbacks import ModelCheckpoint\n",
    "import matplotlib.pyplot as plt\n",
    "from keras.layers import LSTM\n"
   ]
  },
  {
   "cell_type": "code",
   "execution_count": 9,
   "metadata": {},
   "outputs": [
    {
     "name": "stderr",
     "output_type": "stream",
     "text": [
      "2022-03-15 18:39:49.657151: I tensorflow/stream_executor/cuda/cuda_gpu_executor.cc:936] successful NUMA node read from SysFS had negative value (-1), but there must be at least one NUMA node, so returning NUMA node zero\n",
      "2022-03-15 18:39:49.688224: I tensorflow/stream_executor/cuda/cuda_gpu_executor.cc:936] successful NUMA node read from SysFS had negative value (-1), but there must be at least one NUMA node, so returning NUMA node zero\n",
      "2022-03-15 18:39:49.688387: I tensorflow/stream_executor/cuda/cuda_gpu_executor.cc:936] successful NUMA node read from SysFS had negative value (-1), but there must be at least one NUMA node, so returning NUMA node zero\n",
      "2022-03-15 18:39:49.688761: I tensorflow/core/platform/cpu_feature_guard.cc:151] This TensorFlow binary is optimized with oneAPI Deep Neural Network Library (oneDNN) to use the following CPU instructions in performance-critical operations:  AVX2 FMA\n",
      "To enable them in other operations, rebuild TensorFlow with the appropriate compiler flags.\n",
      "2022-03-15 18:39:49.689237: I tensorflow/stream_executor/cuda/cuda_gpu_executor.cc:936] successful NUMA node read from SysFS had negative value (-1), but there must be at least one NUMA node, so returning NUMA node zero\n",
      "2022-03-15 18:39:49.689373: I tensorflow/stream_executor/cuda/cuda_gpu_executor.cc:936] successful NUMA node read from SysFS had negative value (-1), but there must be at least one NUMA node, so returning NUMA node zero\n",
      "2022-03-15 18:39:49.689479: I tensorflow/stream_executor/cuda/cuda_gpu_executor.cc:936] successful NUMA node read from SysFS had negative value (-1), but there must be at least one NUMA node, so returning NUMA node zero\n",
      "2022-03-15 18:39:50.063762: I tensorflow/stream_executor/cuda/cuda_gpu_executor.cc:936] successful NUMA node read from SysFS had negative value (-1), but there must be at least one NUMA node, so returning NUMA node zero\n",
      "2022-03-15 18:39:50.063932: I tensorflow/stream_executor/cuda/cuda_gpu_executor.cc:936] successful NUMA node read from SysFS had negative value (-1), but there must be at least one NUMA node, so returning NUMA node zero\n",
      "2022-03-15 18:39:50.064047: I tensorflow/stream_executor/cuda/cuda_gpu_executor.cc:936] successful NUMA node read from SysFS had negative value (-1), but there must be at least one NUMA node, so returning NUMA node zero\n",
      "2022-03-15 18:39:50.064146: I tensorflow/core/common_runtime/gpu/gpu_device.cc:1525] Created device /job:localhost/replica:0/task:0/device:GPU:0 with 1910 MB memory:  -> device: 0, name: NVIDIA GeForce GTX 1650, pci bus id: 0000:01:00.0, compute capability: 7.5\n"
     ]
    },
    {
     "name": "stdout",
     "output_type": "stream",
     "text": [
      "WARNING:tensorflow:Layer lstm_1 will not use cuDNN kernels since it doesn't meet the criteria. It will use a generic GPU kernel as fallback when running on GPU.\n",
      "WARNING:tensorflow:Layer lstm_1 will not use cuDNN kernels since it doesn't meet the criteria. It will use a generic GPU kernel as fallback when running on GPU.\n",
      "WARNING:tensorflow:Layer lstm_1 will not use cuDNN kernels since it doesn't meet the criteria. It will use a generic GPU kernel as fallback when running on GPU.\n",
      "Model: \"sequential\"\n",
      "_________________________________________________________________\n",
      " Layer (type)                Output Shape              Param #   \n",
      "=================================================================\n",
      " lstm (LSTM)                 (None, 16, 1024)          4202496   \n",
      "                                                                 \n",
      " dropout (Dropout)           (None, 16, 1024)          0         \n",
      "                                                                 \n",
      " bidirectional (Bidirectiona  (None, 2048)             16785408  \n",
      " l)                                                              \n",
      "                                                                 \n",
      " dropout_1 (Dropout)         (None, 2048)              0         \n",
      "                                                                 \n",
      " batch_normalization (BatchN  (None, 2048)             8192      \n",
      " ormalization)                                                   \n",
      "                                                                 \n",
      " dropout_2 (Dropout)         (None, 2048)              0         \n",
      "                                                                 \n",
      " dense (Dense)               (None, 256)               524544    \n",
      "                                                                 \n",
      " dense_1 (Dense)             (None, 3)                 771       \n",
      "                                                                 \n",
      "=================================================================\n",
      "Total params: 21,521,411\n",
      "Trainable params: 21,517,315\n",
      "Non-trainable params: 4,096\n",
      "_________________________________________________________________\n",
      "None\n"
     ]
    }
   ],
   "source": [
    "model = Sequential()\n",
    "model.add(LSTM(1024,return_sequences=True,input_shape=(16,1)))\n",
    "model.add(Dropout(0.2))\n",
    "model.add(Bidirectional(LSTM(1024, activation='relu'))) #elu\n",
    "model.add(Dropout(0.5))\n",
    "#model.add(Bidirectional(LSTM(500, dropout=0.5)))\n",
    "model.add(BatchNormalization(momentum=0.6))\n",
    "model.add(Dropout(0.5))\n",
    "model.add(Dense(256, activation='relu'))\n",
    "model.add(Dense(3, activation='softmax'))\n",
    "model.compile(loss='binary_crossentropy', optimizer='adam', metrics=['accuracy'])\n",
    "print(model.summary()) "
   ]
  },
  {
   "cell_type": "code",
   "execution_count": 10,
   "metadata": {},
   "outputs": [
    {
     "name": "stdout",
     "output_type": "stream",
     "text": [
      "Epoch 1/70\n"
     ]
    },
    {
     "name": "stderr",
     "output_type": "stream",
     "text": [
      "2022-03-15 18:39:56.274011: I tensorflow/stream_executor/cuda/cuda_dnn.cc:368] Loaded cuDNN version 8302\n"
     ]
    },
    {
     "name": "stdout",
     "output_type": "stream",
     "text": [
      "19/19 [==============================] - ETA: 0s - loss: 0.5163 - accuracy: 0.6374\n",
      "Epoch 1: val_loss improved from inf to 0.46111, saving model to ./_best_weights.h5\n",
      "19/19 [==============================] - 17s 735ms/step - loss: 0.5163 - accuracy: 0.6374 - val_loss: 0.4611 - val_accuracy: 0.7201\n",
      "Epoch 2/70\n",
      "19/19 [==============================] - ETA: 0s - loss: 0.4145 - accuracy: 0.7173\n",
      "Epoch 2: val_loss improved from 0.46111 to 0.37195, saving model to ./_best_weights.h5\n",
      "19/19 [==============================] - 16s 844ms/step - loss: 0.4145 - accuracy: 0.7173 - val_loss: 0.3720 - val_accuracy: 0.7342\n",
      "Epoch 3/70\n",
      "19/19 [==============================] - ETA: 0s - loss: 0.3903 - accuracy: 0.7287\n",
      "Epoch 3: val_loss improved from 0.37195 to 0.36198, saving model to ./_best_weights.h5\n",
      "19/19 [==============================] - 16s 857ms/step - loss: 0.3903 - accuracy: 0.7287 - val_loss: 0.3620 - val_accuracy: 0.7466\n",
      "Epoch 4/70\n",
      "19/19 [==============================] - ETA: 0s - loss: 0.3765 - accuracy: 0.7382\n",
      "Epoch 4: val_loss did not improve from 0.36198\n",
      "19/19 [==============================] - 14s 720ms/step - loss: 0.3765 - accuracy: 0.7382 - val_loss: 0.3622 - val_accuracy: 0.7513\n",
      "Epoch 5/70\n",
      "19/19 [==============================] - ETA: 0s - loss: 0.3734 - accuracy: 0.7403\n",
      "Epoch 5: val_loss improved from 0.36198 to 0.35862, saving model to ./_best_weights.h5\n",
      "19/19 [==============================] - 16s 866ms/step - loss: 0.3734 - accuracy: 0.7403 - val_loss: 0.3586 - val_accuracy: 0.7483\n",
      "Epoch 6/70\n",
      "19/19 [==============================] - ETA: 0s - loss: 0.3572 - accuracy: 0.7571\n",
      "Epoch 6: val_loss did not improve from 0.35862\n",
      "19/19 [==============================] - 14s 726ms/step - loss: 0.3572 - accuracy: 0.7571 - val_loss: 0.3844 - val_accuracy: 0.7372\n",
      "Epoch 7/70\n",
      "19/19 [==============================] - ETA: 0s - loss: 0.3511 - accuracy: 0.7599\n",
      "Epoch 7: val_loss improved from 0.35862 to 0.33070, saving model to ./_best_weights.h5\n",
      "19/19 [==============================] - 16s 868ms/step - loss: 0.3511 - accuracy: 0.7599 - val_loss: 0.3307 - val_accuracy: 0.7662\n",
      "Epoch 8/70\n",
      "19/19 [==============================] - ETA: 0s - loss: 0.3390 - accuracy: 0.7663\n",
      "Epoch 8: val_loss did not improve from 0.33070\n",
      "19/19 [==============================] - 14s 724ms/step - loss: 0.3390 - accuracy: 0.7663 - val_loss: 0.3338 - val_accuracy: 0.7731\n",
      "Epoch 9/70\n",
      "19/19 [==============================] - ETA: 0s - loss: 0.3298 - accuracy: 0.7736\n",
      "Epoch 9: val_loss improved from 0.33070 to 0.31752, saving model to ./_best_weights.h5\n",
      "19/19 [==============================] - 16s 867ms/step - loss: 0.3298 - accuracy: 0.7736 - val_loss: 0.3175 - val_accuracy: 0.7868\n",
      "Epoch 10/70\n",
      "19/19 [==============================] - ETA: 0s - loss: 0.3118 - accuracy: 0.7888\n",
      "Epoch 10: val_loss did not improve from 0.31752\n",
      "19/19 [==============================] - 14s 724ms/step - loss: 0.3118 - accuracy: 0.7888 - val_loss: 0.3536 - val_accuracy: 0.7427\n",
      "Epoch 11/70\n",
      "19/19 [==============================] - ETA: 0s - loss: 0.3166 - accuracy: 0.7854\n",
      "Epoch 11: val_loss did not improve from 0.31752\n",
      "19/19 [==============================] - 14s 729ms/step - loss: 0.3166 - accuracy: 0.7854 - val_loss: 0.3203 - val_accuracy: 0.7778\n",
      "Epoch 12/70\n",
      "19/19 [==============================] - ETA: 0s - loss: 0.3064 - accuracy: 0.7940\n",
      "Epoch 12: val_loss improved from 0.31752 to 0.29968, saving model to ./_best_weights.h5\n",
      "19/19 [==============================] - 16s 872ms/step - loss: 0.3064 - accuracy: 0.7940 - val_loss: 0.2997 - val_accuracy: 0.8026\n",
      "Epoch 13/70\n",
      "19/19 [==============================] - ETA: 0s - loss: 0.2990 - accuracy: 0.7989\n",
      "Epoch 13: val_loss improved from 0.29968 to 0.28755, saving model to ./_best_weights.h5\n",
      "19/19 [==============================] - 16s 870ms/step - loss: 0.2990 - accuracy: 0.7989 - val_loss: 0.2875 - val_accuracy: 0.8073\n",
      "Epoch 14/70\n",
      "19/19 [==============================] - ETA: 0s - loss: 0.2905 - accuracy: 0.8054\n",
      "Epoch 14: val_loss did not improve from 0.28755\n",
      "19/19 [==============================] - 14s 738ms/step - loss: 0.2905 - accuracy: 0.8054 - val_loss: 0.2974 - val_accuracy: 0.7991\n",
      "Epoch 15/70\n",
      "19/19 [==============================] - ETA: 0s - loss: 0.2942 - accuracy: 0.8049\n",
      "Epoch 15: val_loss did not improve from 0.28755\n",
      "19/19 [==============================] - 14s 730ms/step - loss: 0.2942 - accuracy: 0.8049 - val_loss: 0.2918 - val_accuracy: 0.7996\n",
      "Epoch 16/70\n",
      "19/19 [==============================] - ETA: 0s - loss: 0.2753 - accuracy: 0.8149\n",
      "Epoch 16: val_loss did not improve from 0.28755\n",
      "19/19 [==============================] - 14s 732ms/step - loss: 0.2753 - accuracy: 0.8149 - val_loss: 0.3184 - val_accuracy: 0.7906\n",
      "Epoch 17/70\n",
      "19/19 [==============================] - ETA: 0s - loss: 0.2704 - accuracy: 0.8201\n",
      "Epoch 17: val_loss did not improve from 0.28755\n",
      "19/19 [==============================] - 14s 731ms/step - loss: 0.2704 - accuracy: 0.8201 - val_loss: 0.3126 - val_accuracy: 0.7987\n",
      "Epoch 18/70\n",
      "19/19 [==============================] - ETA: 0s - loss: 0.2625 - accuracy: 0.8252\n",
      "Epoch 18: val_loss improved from 0.28755 to 0.28575, saving model to ./_best_weights.h5\n",
      "19/19 [==============================] - 16s 873ms/step - loss: 0.2625 - accuracy: 0.8252 - val_loss: 0.2858 - val_accuracy: 0.8009\n",
      "Epoch 19/70\n",
      "19/19 [==============================] - ETA: 0s - loss: 0.2535 - accuracy: 0.8292\n",
      "Epoch 19: val_loss improved from 0.28575 to 0.25521, saving model to ./_best_weights.h5\n",
      "19/19 [==============================] - 16s 874ms/step - loss: 0.2535 - accuracy: 0.8292 - val_loss: 0.2552 - val_accuracy: 0.8308\n",
      "Epoch 20/70\n",
      "19/19 [==============================] - ETA: 0s - loss: 0.2490 - accuracy: 0.8358\n",
      "Epoch 20: val_loss did not improve from 0.25521\n",
      "19/19 [==============================] - 14s 729ms/step - loss: 0.2490 - accuracy: 0.8358 - val_loss: 0.3211 - val_accuracy: 0.7966\n",
      "Epoch 21/70\n",
      "19/19 [==============================] - ETA: 0s - loss: 0.2591 - accuracy: 0.8279\n",
      "Epoch 21: val_loss did not improve from 0.25521\n",
      "19/19 [==============================] - 14s 729ms/step - loss: 0.2591 - accuracy: 0.8279 - val_loss: 0.2769 - val_accuracy: 0.8056\n",
      "Epoch 22/70\n",
      "19/19 [==============================] - ETA: 0s - loss: 0.2438 - accuracy: 0.8366\n",
      "Epoch 22: val_loss did not improve from 0.25521\n",
      "19/19 [==============================] - 14s 745ms/step - loss: 0.2438 - accuracy: 0.8366 - val_loss: 0.2818 - val_accuracy: 0.8184\n",
      "Epoch 23/70\n",
      "19/19 [==============================] - ETA: 0s - loss: 0.2354 - accuracy: 0.8440\n",
      "Epoch 23: val_loss improved from 0.25521 to 0.24296, saving model to ./_best_weights.h5\n",
      "19/19 [==============================] - 17s 884ms/step - loss: 0.2354 - accuracy: 0.8440 - val_loss: 0.2430 - val_accuracy: 0.8372\n",
      "Epoch 24/70\n",
      "19/19 [==============================] - ETA: 0s - loss: 0.2324 - accuracy: 0.8482\n",
      "Epoch 24: val_loss did not improve from 0.24296\n",
      "19/19 [==============================] - 14s 736ms/step - loss: 0.2324 - accuracy: 0.8482 - val_loss: 0.2761 - val_accuracy: 0.8085\n",
      "Epoch 25/70\n",
      "19/19 [==============================] - ETA: 0s - loss: 0.2312 - accuracy: 0.8451\n",
      "Epoch 25: val_loss improved from 0.24296 to 0.24027, saving model to ./_best_weights.h5\n",
      "19/19 [==============================] - 16s 858ms/step - loss: 0.2312 - accuracy: 0.8451 - val_loss: 0.2403 - val_accuracy: 0.8406\n",
      "Epoch 26/70\n",
      "19/19 [==============================] - ETA: 0s - loss: 0.2262 - accuracy: 0.8495\n",
      "Epoch 26: val_loss improved from 0.24027 to 0.22933, saving model to ./_best_weights.h5\n",
      "19/19 [==============================] - 17s 899ms/step - loss: 0.2262 - accuracy: 0.8495 - val_loss: 0.2293 - val_accuracy: 0.8440\n",
      "Epoch 27/70\n",
      "19/19 [==============================] - ETA: 0s - loss: 0.2146 - accuracy: 0.8559\n",
      "Epoch 27: val_loss did not improve from 0.22933\n",
      "19/19 [==============================] - 14s 754ms/step - loss: 0.2146 - accuracy: 0.8559 - val_loss: 0.2455 - val_accuracy: 0.8372\n",
      "Epoch 28/70\n",
      "19/19 [==============================] - ETA: 0s - loss: 0.2234 - accuracy: 0.8519\n",
      "Epoch 28: val_loss improved from 0.22933 to 0.22791, saving model to ./_best_weights.h5\n",
      "19/19 [==============================] - 16s 855ms/step - loss: 0.2234 - accuracy: 0.8519 - val_loss: 0.2279 - val_accuracy: 0.8483\n",
      "Epoch 29/70\n",
      "19/19 [==============================] - ETA: 0s - loss: 0.2251 - accuracy: 0.8485\n",
      "Epoch 29: val_loss did not improve from 0.22791\n",
      "19/19 [==============================] - 13s 711ms/step - loss: 0.2251 - accuracy: 0.8485 - val_loss: 0.2548 - val_accuracy: 0.8226\n",
      "Epoch 30/70\n",
      "19/19 [==============================] - ETA: 0s - loss: 0.2138 - accuracy: 0.8559\n",
      "Epoch 30: val_loss did not improve from 0.22791\n",
      "19/19 [==============================] - 14s 719ms/step - loss: 0.2138 - accuracy: 0.8559 - val_loss: 0.2376 - val_accuracy: 0.8453\n",
      "Epoch 31/70\n",
      "19/19 [==============================] - ETA: 0s - loss: 0.2066 - accuracy: 0.8620\n",
      "Epoch 31: val_loss did not improve from 0.22791\n",
      "19/19 [==============================] - 13s 689ms/step - loss: 0.2066 - accuracy: 0.8620 - val_loss: 0.2418 - val_accuracy: 0.8368\n",
      "Epoch 32/70\n",
      "19/19 [==============================] - ETA: 0s - loss: 0.2107 - accuracy: 0.8570\n",
      "Epoch 32: val_loss improved from 0.22791 to 0.22593, saving model to ./_best_weights.h5\n",
      "19/19 [==============================] - 16s 846ms/step - loss: 0.2107 - accuracy: 0.8570 - val_loss: 0.2259 - val_accuracy: 0.8483\n",
      "Epoch 33/70\n",
      "19/19 [==============================] - ETA: 0s - loss: 0.2024 - accuracy: 0.8668\n",
      "Epoch 33: val_loss did not improve from 0.22593\n",
      "19/19 [==============================] - 13s 684ms/step - loss: 0.2024 - accuracy: 0.8668 - val_loss: 0.2341 - val_accuracy: 0.8504\n",
      "Epoch 34/70\n",
      "19/19 [==============================] - ETA: 0s - loss: 0.2046 - accuracy: 0.8656\n",
      "Epoch 34: val_loss did not improve from 0.22593\n",
      "19/19 [==============================] - 13s 679ms/step - loss: 0.2046 - accuracy: 0.8656 - val_loss: 0.2344 - val_accuracy: 0.8462\n",
      "Epoch 35/70\n",
      "19/19 [==============================] - ETA: 0s - loss: 0.2057 - accuracy: 0.8631\n",
      "Epoch 35: val_loss did not improve from 0.22593\n",
      "19/19 [==============================] - 13s 679ms/step - loss: 0.2057 - accuracy: 0.8631 - val_loss: 0.2315 - val_accuracy: 0.8483\n",
      "Epoch 36/70\n",
      "19/19 [==============================] - ETA: 0s - loss: 0.2006 - accuracy: 0.8642\n",
      "Epoch 36: val_loss did not improve from 0.22593\n",
      "19/19 [==============================] - 13s 680ms/step - loss: 0.2006 - accuracy: 0.8642 - val_loss: 0.2444 - val_accuracy: 0.8453\n",
      "Epoch 37/70\n",
      "19/19 [==============================] - ETA: 0s - loss: 0.1952 - accuracy: 0.8726\n",
      "Epoch 37: val_loss did not improve from 0.22593\n",
      "19/19 [==============================] - 13s 682ms/step - loss: 0.1952 - accuracy: 0.8726 - val_loss: 0.2333 - val_accuracy: 0.8496\n",
      "Epoch 38/70\n",
      "19/19 [==============================] - ETA: 0s - loss: 0.1903 - accuracy: 0.8741\n",
      "Epoch 38: val_loss improved from 0.22593 to 0.22347, saving model to ./_best_weights.h5\n",
      "19/19 [==============================] - 16s 872ms/step - loss: 0.1903 - accuracy: 0.8741 - val_loss: 0.2235 - val_accuracy: 0.8513\n",
      "Epoch 39/70\n",
      "19/19 [==============================] - ETA: 0s - loss: 0.2003 - accuracy: 0.8666\n",
      "Epoch 39: val_loss improved from 0.22347 to 0.22340, saving model to ./_best_weights.h5\n",
      "19/19 [==============================] - 16s 858ms/step - loss: 0.2003 - accuracy: 0.8666 - val_loss: 0.2234 - val_accuracy: 0.8538\n",
      "Epoch 40/70\n",
      "19/19 [==============================] - ETA: 0s - loss: 0.1816 - accuracy: 0.8791\n",
      "Epoch 40: val_loss improved from 0.22340 to 0.22001, saving model to ./_best_weights.h5\n",
      "19/19 [==============================] - 16s 880ms/step - loss: 0.1816 - accuracy: 0.8791 - val_loss: 0.2200 - val_accuracy: 0.8585\n",
      "Epoch 41/70\n",
      "19/19 [==============================] - ETA: 0s - loss: 0.1887 - accuracy: 0.8790\n",
      "Epoch 41: val_loss did not improve from 0.22001\n",
      "19/19 [==============================] - 14s 720ms/step - loss: 0.1887 - accuracy: 0.8790 - val_loss: 0.2360 - val_accuracy: 0.8538\n",
      "Epoch 42/70\n",
      "19/19 [==============================] - ETA: 0s - loss: 0.1797 - accuracy: 0.8844\n",
      "Epoch 42: val_loss did not improve from 0.22001\n",
      "19/19 [==============================] - 14s 719ms/step - loss: 0.1797 - accuracy: 0.8844 - val_loss: 0.2277 - val_accuracy: 0.8504\n",
      "Epoch 43/70\n",
      "19/19 [==============================] - ETA: 0s - loss: 0.1791 - accuracy: 0.8837\n",
      "Epoch 43: val_loss did not improve from 0.22001\n",
      "19/19 [==============================] - 14s 720ms/step - loss: 0.1791 - accuracy: 0.8837 - val_loss: 0.2272 - val_accuracy: 0.8483\n",
      "Epoch 44/70\n",
      "19/19 [==============================] - ETA: 0s - loss: 0.1885 - accuracy: 0.8740\n",
      "Epoch 44: val_loss did not improve from 0.22001\n",
      "19/19 [==============================] - 14s 721ms/step - loss: 0.1885 - accuracy: 0.8740 - val_loss: 0.2208 - val_accuracy: 0.8534\n",
      "Epoch 45/70\n",
      "19/19 [==============================] - ETA: 0s - loss: 0.1768 - accuracy: 0.8819\n",
      "Epoch 45: val_loss did not improve from 0.22001\n",
      "19/19 [==============================] - 14s 718ms/step - loss: 0.1768 - accuracy: 0.8819 - val_loss: 0.2275 - val_accuracy: 0.8534\n",
      "Epoch 46/70\n",
      "19/19 [==============================] - ETA: 0s - loss: 0.1765 - accuracy: 0.8844\n",
      "Epoch 46: val_loss did not improve from 0.22001\n",
      "19/19 [==============================] - 14s 724ms/step - loss: 0.1765 - accuracy: 0.8844 - val_loss: 0.2391 - val_accuracy: 0.8521\n",
      "Epoch 47/70\n",
      "19/19 [==============================] - ETA: 0s - loss: 0.1736 - accuracy: 0.8864\n",
      "Epoch 47: val_loss did not improve from 0.22001\n",
      "19/19 [==============================] - 14s 722ms/step - loss: 0.1736 - accuracy: 0.8864 - val_loss: 0.2288 - val_accuracy: 0.8513\n",
      "Epoch 48/70\n",
      "19/19 [==============================] - ETA: 0s - loss: 0.1761 - accuracy: 0.8839\n",
      "Epoch 48: val_loss did not improve from 0.22001\n",
      "19/19 [==============================] - 14s 721ms/step - loss: 0.1761 - accuracy: 0.8839 - val_loss: 0.2281 - val_accuracy: 0.8470\n",
      "Epoch 49/70\n",
      "19/19 [==============================] - ETA: 0s - loss: 0.1712 - accuracy: 0.8887\n",
      "Epoch 49: val_loss improved from 0.22001 to 0.21862, saving model to ./_best_weights.h5\n",
      "19/19 [==============================] - 17s 879ms/step - loss: 0.1712 - accuracy: 0.8887 - val_loss: 0.2186 - val_accuracy: 0.8538\n",
      "Epoch 50/70\n",
      "19/19 [==============================] - ETA: 0s - loss: 0.1688 - accuracy: 0.8873\n",
      "Epoch 50: val_loss did not improve from 0.21862\n",
      "19/19 [==============================] - 14s 720ms/step - loss: 0.1688 - accuracy: 0.8873 - val_loss: 0.2641 - val_accuracy: 0.8432\n",
      "Epoch 51/70\n",
      "19/19 [==============================] - ETA: 0s - loss: 0.1700 - accuracy: 0.8879\n",
      "Epoch 51: val_loss did not improve from 0.21862\n",
      "19/19 [==============================] - 14s 722ms/step - loss: 0.1700 - accuracy: 0.8879 - val_loss: 0.2425 - val_accuracy: 0.8534\n",
      "Epoch 52/70\n",
      "19/19 [==============================] - ETA: 0s - loss: 0.1625 - accuracy: 0.8915\n",
      "Epoch 52: val_loss did not improve from 0.21862\n",
      "19/19 [==============================] - 14s 715ms/step - loss: 0.1625 - accuracy: 0.8915 - val_loss: 0.2234 - val_accuracy: 0.8632\n",
      "Epoch 53/70\n",
      "19/19 [==============================] - ETA: 0s - loss: 0.1626 - accuracy: 0.8925\n",
      "Epoch 53: val_loss did not improve from 0.21862\n",
      "19/19 [==============================] - 14s 720ms/step - loss: 0.1626 - accuracy: 0.8925 - val_loss: 0.2391 - val_accuracy: 0.8564\n",
      "Epoch 54/70\n",
      "19/19 [==============================] - ETA: 0s - loss: 0.1591 - accuracy: 0.8943\n",
      "Epoch 54: val_loss did not improve from 0.21862\n",
      "19/19 [==============================] - 14s 720ms/step - loss: 0.1591 - accuracy: 0.8943 - val_loss: 0.2446 - val_accuracy: 0.8496\n",
      "Epoch 55/70\n",
      "19/19 [==============================] - ETA: 0s - loss: 0.1583 - accuracy: 0.8918\n",
      "Epoch 55: val_loss did not improve from 0.21862\n",
      "19/19 [==============================] - 14s 722ms/step - loss: 0.1583 - accuracy: 0.8918 - val_loss: 0.2888 - val_accuracy: 0.8380\n",
      "Epoch 56/70\n",
      "19/19 [==============================] - ETA: 0s - loss: 0.1802 - accuracy: 0.8825\n",
      "Epoch 56: val_loss did not improve from 0.21862\n",
      "19/19 [==============================] - 14s 715ms/step - loss: 0.1802 - accuracy: 0.8825 - val_loss: 0.2404 - val_accuracy: 0.8462\n",
      "Epoch 57/70\n",
      "19/19 [==============================] - ETA: 0s - loss: 0.1585 - accuracy: 0.8955\n",
      "Epoch 57: val_loss did not improve from 0.21862\n",
      "19/19 [==============================] - 14s 722ms/step - loss: 0.1585 - accuracy: 0.8955 - val_loss: 0.2629 - val_accuracy: 0.8474\n",
      "Epoch 58/70\n",
      "19/19 [==============================] - ETA: 0s - loss: 0.1602 - accuracy: 0.8952\n",
      "Epoch 58: val_loss did not improve from 0.21862\n",
      "19/19 [==============================] - 14s 726ms/step - loss: 0.1602 - accuracy: 0.8952 - val_loss: 0.2389 - val_accuracy: 0.8500\n",
      "Epoch 59/70\n",
      "19/19 [==============================] - ETA: 0s - loss: 0.1581 - accuracy: 0.8964\n",
      "Epoch 59: val_loss did not improve from 0.21862\n",
      "19/19 [==============================] - 14s 716ms/step - loss: 0.1581 - accuracy: 0.8964 - val_loss: 0.2865 - val_accuracy: 0.8333\n",
      "Epoch 60/70\n",
      "19/19 [==============================] - ETA: 0s - loss: 0.1562 - accuracy: 0.8970\n",
      "Epoch 60: val_loss did not improve from 0.21862\n",
      "19/19 [==============================] - 14s 721ms/step - loss: 0.1562 - accuracy: 0.8970 - val_loss: 0.2395 - val_accuracy: 0.8590\n",
      "Epoch 61/70\n",
      "19/19 [==============================] - ETA: 0s - loss: 0.1497 - accuracy: 0.9035\n",
      "Epoch 61: val_loss did not improve from 0.21862\n",
      "19/19 [==============================] - 14s 721ms/step - loss: 0.1497 - accuracy: 0.9035 - val_loss: 0.2561 - val_accuracy: 0.8534\n",
      "Epoch 62/70\n",
      "19/19 [==============================] - ETA: 0s - loss: 0.1486 - accuracy: 0.9009\n",
      "Epoch 62: val_loss did not improve from 0.21862\n",
      "19/19 [==============================] - 14s 721ms/step - loss: 0.1486 - accuracy: 0.9009 - val_loss: 0.2593 - val_accuracy: 0.8470\n",
      "Epoch 63/70\n",
      "19/19 [==============================] - ETA: 0s - loss: 0.1502 - accuracy: 0.9008\n",
      "Epoch 63: val_loss did not improve from 0.21862\n",
      "19/19 [==============================] - 14s 716ms/step - loss: 0.1502 - accuracy: 0.9008 - val_loss: 0.2548 - val_accuracy: 0.8645\n",
      "Epoch 64/70\n",
      "19/19 [==============================] - ETA: 0s - loss: 0.1556 - accuracy: 0.8989\n",
      "Epoch 64: val_loss did not improve from 0.21862\n",
      "19/19 [==============================] - 14s 723ms/step - loss: 0.1556 - accuracy: 0.8989 - val_loss: 0.2356 - val_accuracy: 0.8628\n",
      "Epoch 65/70\n",
      "19/19 [==============================] - ETA: 0s - loss: 0.1445 - accuracy: 0.9043\n",
      "Epoch 65: val_loss did not improve from 0.21862\n",
      "19/19 [==============================] - 14s 722ms/step - loss: 0.1445 - accuracy: 0.9043 - val_loss: 0.2767 - val_accuracy: 0.8590\n",
      "Epoch 66/70\n",
      "19/19 [==============================] - ETA: 0s - loss: 0.1450 - accuracy: 0.9052\n",
      "Epoch 66: val_loss did not improve from 0.21862\n",
      "19/19 [==============================] - 14s 725ms/step - loss: 0.1450 - accuracy: 0.9052 - val_loss: 0.2710 - val_accuracy: 0.8389\n",
      "Epoch 67/70\n",
      "19/19 [==============================] - ETA: 0s - loss: 0.1473 - accuracy: 0.9031\n",
      "Epoch 67: val_loss did not improve from 0.21862\n",
      "19/19 [==============================] - 14s 725ms/step - loss: 0.1473 - accuracy: 0.9031 - val_loss: 0.2551 - val_accuracy: 0.8521\n",
      "Epoch 68/70\n",
      "19/19 [==============================] - ETA: 0s - loss: 0.1411 - accuracy: 0.9072\n",
      "Epoch 68: val_loss did not improve from 0.21862\n",
      "19/19 [==============================] - 14s 721ms/step - loss: 0.1411 - accuracy: 0.9072 - val_loss: 0.2602 - val_accuracy: 0.8530\n",
      "Epoch 69/70\n",
      "19/19 [==============================] - ETA: 0s - loss: 0.1322 - accuracy: 0.9140\n",
      "Epoch 69: val_loss did not improve from 0.21862\n",
      "19/19 [==============================] - 14s 725ms/step - loss: 0.1322 - accuracy: 0.9140 - val_loss: 0.2744 - val_accuracy: 0.8483\n",
      "Epoch 70/70\n",
      "19/19 [==============================] - ETA: 0s - loss: 0.1286 - accuracy: 0.9158\n",
      "Epoch 70: val_loss did not improve from 0.21862\n",
      "19/19 [==============================] - 14s 721ms/step - loss: 0.1286 - accuracy: 0.9158 - val_loss: 0.2692 - val_accuracy: 0.8513\n"
     ]
    }
   ],
   "source": [
    "checkpointer = ModelCheckpoint(filepath='./'+'_best_weights.h5', verbose=1, monitor='val_loss', mode='auto', save_best_only=True) #save at each epoch if the validation decreased\n",
    "\n",
    "history =model.fit(x_train_new, Y_train_new, epochs=70, batch_size=512, verbose=1, validation_split=0.2, callbacks=[checkpointer])\n",
    "\n",
    "model.save('weights_BiLSTM2.h5')"
   ]
  },
  {
   "cell_type": "code",
   "execution_count": 11,
   "metadata": {},
   "outputs": [
    {
     "name": "stdout",
     "output_type": "stream",
     "text": [
      "65/65 [==============================] - 2s 23ms/step - loss: 0.2340 - accuracy: 0.8625\n",
      "Test loss: 0.23395375907421112\n",
      "Test accuracy: 0.8624697327613831\n"
     ]
    }
   ],
   "source": [
    "score = model.evaluate(x_test_new, Y_test_new, verbose=1)\n",
    "print('Test loss:', score[0])\n",
    "print('Test accuracy:', score[1])"
   ]
  },
  {
   "cell_type": "code",
   "execution_count": 12,
   "metadata": {},
   "outputs": [
    {
     "data": {
      "image/png": "[encoded data removed]",
      "text/plain": [
       "<Figure size 432x288 with 1 Axes>"
      ]
     },
     "metadata": {
      "needs_background": "light"
     },
     "output_type": "display_data"
    }
   ],
   "source": [
    "import matplotlib.pyplot as plt # shorcut for a plot function\n",
    "plt.plot(history.history['accuracy']) # training accuracy\n",
    "plt.plot(history.history['val_accuracy']) # validation accuracy\n",
    "plt.title('model accuracy')\n",
    "plt.ylabel('accuracy')\n",
    "plt.xlabel('epoch')\n",
    "plt.legend(['train', 'test'], loc='upper left')\n",
    "plt.show()"
   ]
  },
  {
   "cell_type": "code",
   "execution_count": 13,
   "metadata": {},
   "outputs": [
    {
     "data": {
      "image/png": "[encoded data removed]",
      "text/plain": [
       "<Figure size 432x288 with 1 Axes>"
      ]
     },
     "metadata": {
      "needs_background": "light"
     },
     "output_type": "display_data"
    }
   ],
   "source": [
    "plt.plot(history.history['loss'])\n",
    "plt.plot(history.history['val_loss'])\n",
    "plt.title('model loss')\n",
    "plt.ylabel('loss')\n",
    "plt.xlabel('epoch')\n",
    "plt.legend(['train', 'test'], loc='upper left')\n",
    "plt.show()"
   ]
  },
  {
   "cell_type": "code",
   "execution_count": 14,
   "metadata": {},
   "outputs": [
    {
     "name": "stdout",
     "output_type": "stream",
     "text": [
      "65/65 - 2s - 2s/epoch - 28ms/step\n",
      "predicted images size : (2065, 3)\n",
      "[[1.0000000e+00 1.5966032e-11 2.0418256e-15]\n",
      " [9.9999976e-01 1.2203348e-07 7.1138345e-08]\n",
      " [9.9899441e-01 1.0055499e-03 2.7880001e-08]\n",
      " ...\n",
      " [1.0000000e+00 6.0022273e-13 1.6418112e-15]\n",
      " [7.1463234e-07 9.9999928e-01 2.6357494e-10]\n",
      " [1.0000000e+00 1.6782862e-14 5.6581604e-19]]\n",
      "(2065, 3)\n"
     ]
    }
   ],
   "source": [
    "predictions = model.predict(x_test_new, batch_size=32, verbose=2)\n",
    "print (\"predicted images size :\",predictions.shape)\n",
    "print(predictions)\n",
    "print(Y_test_new.shape)"
   ]
  },
  {
   "cell_type": "code",
   "execution_count": 15,
   "metadata": {},
   "outputs": [
    {
     "name": "stdout",
     "output_type": "stream",
     "text": [
      "\n",
      "Confusion matrix:  Custom threshold (for positive) of 0.5\n",
      "[[871 108   1]\n",
      " [171 883   2]\n",
      " [  1   1  27]]\n"
     ]
    }
   ],
   "source": [
    "from sklearn.metrics import confusion_matrix,accuracy_score, precision_score, recall_score\n",
    "threshold_confusion = 0.5\n",
    "print (\"\\nConfusion matrix:  Custom threshold (for positive) of \" +str(threshold_confusion))\n",
    "y_pred = np.empty((predictions.shape[0]))\n",
    "y_test = np.empty((predictions.shape[0]))\n",
    "for i in range(predictions.shape[0]):\n",
    "    \n",
    "    y_pred[i]=np.argmax(predictions[i])\n",
    "    y_test[i]=np.argmax(Y_test_new[i])\n",
    "#print(y_pred)\n",
    "    \n",
    "       \n",
    "confusion = confusion_matrix(y_test,  y_pred)\n",
    "print (confusion)"
   ]
  },
  {
   "cell_type": "code",
   "execution_count": 16,
   "metadata": {},
   "outputs": [
    {
     "name": "stdout",
     "output_type": "stream",
     "text": [
      "The accuracy score on this random test-set is  : 0.8624697336561743\n",
      "recall [0.88877551 0.83617424 0.93103448] the avreage recall is  0.8853280784623149\n",
      "precision [0.83509108 0.89012097 0.9       ] the avreage precision is  0.8750706837183889\n",
      "F1_score 0.8801694974784132\n"
     ]
    }
   ],
   "source": [
    "print(\"The accuracy score on this random test-set is  :\", accuracy_score(y_test,  y_pred) )\n",
    "recall=recall_score(y_test,  y_pred, average=None)\n",
    "av_recall=sum(recall)/3\n",
    "print(\"recall\",recall, \"the avreage recall is \",av_recall)\n",
    "precision=precision_score(y_test,  y_pred,average=None)\n",
    "av_precision=sum(precision)/3\n",
    "\n",
    "print(\"precision\",precision,\"the avreage precision is \",av_precision)\n",
    "\n",
    "F1_score=(2*av_precision*av_recall)/(av_precision+av_recall)\n",
    "print(\"F1_score\",F1_score)"
   ]
  },
  {
   "cell_type": "code",
   "execution_count": null,
   "metadata": {},
   "outputs": [],
   "source": []
  }
 ],
 "metadata": {
  "interpreter": {
   "hash": "4f6408f789ce582f12455b02ab095ed2a024a668d0e40c1283b993c53328683e"
  },
  "kernelspec": {
   "display_name": "Python 3.8.12 ('tensorflow-gpu')",
   "language": "python",
   "name": "python3"
  },
  "language_info": {
   "codemirror_mode": {
    "name": "ipython",
    "version": 3
   },
   "file_extension": ".py",
   "mimetype": "text/x-python",
   "name": "python",
   "nbconvert_exporter": "python",
   "pygments_lexer": "ipython3",
   "version": "3.8.12"
  },
  "orig_nbformat": 4
 },
 "nbformat": 4,
 "nbformat_minor": 2
}
