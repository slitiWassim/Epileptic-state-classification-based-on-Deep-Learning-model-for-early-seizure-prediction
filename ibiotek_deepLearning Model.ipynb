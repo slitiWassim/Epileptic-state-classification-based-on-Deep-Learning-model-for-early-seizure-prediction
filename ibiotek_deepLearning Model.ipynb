{
 "cells": [
  {
   "cell_type": "markdown",
   "metadata": {},
   "source": [
    "After tt"
   ]
  },
  {
   "cell_type": "code",
   "execution_count": 1,
   "metadata": {},
   "outputs": [
    {
     "name": "stdout",
     "output_type": "stream",
     "text": [
      "(13762, 8)\n"
     ]
    },
    {
     "data": {
      "text/plain": [
       "array([[1.93978268e+02, 9.89658300e+00, 2.02883500e+01, ...,\n",
       "        1.23907620e+02, 6.62235000e-01, 9.66716000e-01],\n",
       "       [8.21718810e+01, 1.85822300e+00, 1.79525440e+01, ...,\n",
       "        1.70642080e+01, 6.49830000e-01, 1.72596200e+00],\n",
       "       [3.26893179e+03, 6.52433300e+00, 1.85320570e+01, ...,\n",
       "        1.00173500e+03, 6.37607000e-01, 3.63161000e-01],\n",
       "       ...,\n",
       "       [1.93845034e+02, 4.31289000e-01, 7.66381500e+00, ...,\n",
       "        1.48119304e+02, 1.11113900e+00, 7.66170000e-01],\n",
       "       [5.37608964e+02, 1.15022900e+00, 1.45061190e+01, ...,\n",
       "        1.80209238e+02, 1.11802400e+00, 6.40931000e-01],\n",
       "       [1.53551504e+02, 4.51115000e-01, 6.77274800e+00, ...,\n",
       "        9.98209850e+01, 1.12499300e+00, 4.70517000e-01]])"
      ]
     },
     "execution_count": 1,
     "metadata": {},
     "output_type": "execute_result"
    }
   ],
   "source": [
    "import pandas as pd\n",
    "import numpy \n",
    "dataset_e1= pd.read_csv(\"./stand_norm_e1.txt\",delimiter=\" \",header=None)\n",
    "dataset_e1=numpy.array(dataset_e1,float)\n",
    "\n",
    "X_e1 = dataset_e1[:,:8]\n",
    "#m=np.max(X_e1)\n",
    "\n",
    "print(X_e1.shape)\n",
    "\n"
   ]
  },
  {
   "cell_type": "code",
   "execution_count": 2,
   "metadata": {},
   "outputs": [
    {
     "name": "stdout",
     "output_type": "stream",
     "text": [
      "(13762, 8)\n"
     ]
    }
   ],
   "source": [
    "dataset_e2= pd.read_csv(\"./stand_norm_e2.txt\",delimiter=\" \",header=None)\n",
    "dataset_e2=numpy.array(dataset_e2,float)\n",
    "\n",
    "X_e2 = dataset_e2[:,:8]\n",
    "#n=np.max(X_e2)\n",
    "#X_e2=X_e2/n\n",
    "print(X_e2.shape)\n"
   ]
  },
  {
   "cell_type": "code",
   "execution_count": 3,
   "metadata": {},
   "outputs": [
    {
     "name": "stdout",
     "output_type": "stream",
     "text": [
      "(13762, 8, 2)\n"
     ]
    },
    {
     "data": {
      "text/plain": [
       "array([[193.978268, 163.21552 ],\n",
       "       [  9.896583,   9.042817],\n",
       "       [ 20.28835 ,  17.174985],\n",
       "       [  6.80433 ,  16.798999],\n",
       "       [ 13.081385,  17.999821],\n",
       "       [123.90762 ,  62.198898],\n",
       "       [  0.662235,   0.662235],\n",
       "       [  0.966716,   1.030338]])"
      ]
     },
     "execution_count": 3,
     "metadata": {},
     "output_type": "execute_result"
    }
   ],
   "source": [
    "x_train_test=numpy.zeros((X_e1.shape[0],X_e1.shape[1],2))\n",
    "x_train_test[:,:,0]=X_e1\n",
    "x_train_test[:,:,1]=X_e2\n",
    "print(x_train_test.shape)\n",
    "#print(x_test.shape)\n",
    "\n"
   ]
  },
  {
   "cell_type": "code",
   "execution_count": 4,
   "metadata": {},
   "outputs": [],
   "source": [
    "dataset_output= pd.read_csv(\"./y2_e1.txt\",delimiter=\" \",header=None)\n",
    "dataset_output=numpy.array(dataset_output,float)\n",
    "dataset_output_new= dataset_output.reshape(dataset_output.shape[0], )\n"
   ]
  },
  {
   "cell_type": "code",
   "execution_count": 5,
   "metadata": {},
   "outputs": [
    {
     "name": "stdout",
     "output_type": "stream",
     "text": [
      "(11697, 8, 2)\n",
      "(11697,)\n",
      "(11697, 3)\n",
      "(11697, 8, 2)\n",
      "(11697, 8, 2)\n"
     ]
    },
    {
     "data": {
      "text/plain": [
       "array([[1., 0., 0.],\n",
       "       [0., 1., 0.],\n",
       "       [0., 1., 0.],\n",
       "       ...,\n",
       "       [0., 1., 0.],\n",
       "       [1., 0., 0.],\n",
       "       [1., 0., 0.]], dtype=float32)"
      ]
     },
     "execution_count": 5,
     "metadata": {},
     "output_type": "execute_result"
    }
   ],
   "source": [
    "from sklearn.model_selection import train_test_split\n",
    "x_train, x_test, y_train, y_test = train_test_split(x_train_test, dataset_output_new, test_size=0.15, random_state=42)\n",
    "x_train_new=x_train\n",
    "x_test_new=x_test\n",
    "print(x_train_new.shape)\n",
    "print(y_train.shape)\n",
    "import tensorflow\n",
    "Y_train_new = tensorflow.keras.utils.to_categorical( y_train)\n",
    "Y_test_new = tensorflow.keras.utils.to_categorical(y_test)\n",
    "print(Y_train_new.shape)\n",
    "print (x_train_new.shape)\n",
    "x_train_new=x_train_new.reshape(x_train_new.shape[0],  x_train_new.shape[1], 2)\n",
    "x_test_new = x_test_new.reshape(x_test_new.shape[0], x_test_new.shape[1],2 )\n",
    "print (x_train_new.shape)\n",
    "\n",
    "\n",
    "\n"
   ]
  },
  {
   "cell_type": "code",
   "execution_count": 6,
   "metadata": {},
   "outputs": [],
   "source": [
    "\n",
    "\n",
    "import numpy as np \n",
    "import pandas as pd \n",
    "\n",
    "from keras.models import Sequential\n",
    "from keras.layers import Conv1D\n",
    "from keras.layers import MaxPooling1D , Dropout ,BatchNormalization ,GRU ,Bidirectional\n",
    "from keras.layers import Flatten\n",
    "from keras.layers import Dense\n",
    "from PIL import Image\n",
    "from keras.utils.vis_utils import plot_model\n",
    "from keras.callbacks import ModelCheckpoint\n",
    "import matplotlib.pyplot as plt\n",
    "from keras.layers import LSTM\n"
   ]
  },
  {
   "cell_type": "code",
   "execution_count": 16,
   "metadata": {},
   "outputs": [
    {
     "name": "stdout",
     "output_type": "stream",
     "text": [
      "WARNING:tensorflow:Layer lstm_3 will not use cuDNN kernels since it doesn't meet the criteria. It will use a generic GPU kernel as fallback when running on GPU.\n",
      "WARNING:tensorflow:Layer lstm_3 will not use cuDNN kernels since it doesn't meet the criteria. It will use a generic GPU kernel as fallback when running on GPU.\n",
      "WARNING:tensorflow:Layer lstm_3 will not use cuDNN kernels since it doesn't meet the criteria. It will use a generic GPU kernel as fallback when running on GPU.\n",
      "Model: \"sequential_1\"\n",
      "_________________________________________________________________\n",
      " Layer (type)                Output Shape              Param #   \n",
      "=================================================================\n",
      " lstm_2 (LSTM)               (None, 8, 1024)           4206592   \n",
      "                                                                 \n",
      " dropout_1 (Dropout)         (None, 8, 1024)           0         \n",
      "                                                                 \n",
      " bidirectional (Bidirectiona  (None, 2048)             16785408  \n",
      " l)                                                              \n",
      "                                                                 \n",
      " dropout_2 (Dropout)         (None, 2048)              0         \n",
      "                                                                 \n",
      " batch_normalization (BatchN  (None, 2048)             8192      \n",
      " ormalization)                                                   \n",
      "                                                                 \n",
      " dropout_3 (Dropout)         (None, 2048)              0         \n",
      "                                                                 \n",
      " dense_1 (Dense)             (None, 256)               524544    \n",
      "                                                                 \n",
      " dense_2 (Dense)             (None, 3)                 771       \n",
      "                                                                 \n",
      "=================================================================\n",
      "Total params: 21,525,507\n",
      "Trainable params: 21,521,411\n",
      "Non-trainable params: 4,096\n",
      "_________________________________________________________________\n",
      "None\n"
     ]
    }
   ],
   "source": [
    "model = Sequential()\n",
    "model.add(LSTM(1024,return_sequences=True,input_shape=(8,2)))\n",
    "model.add(Dropout(0.2))\n",
    "model.add(Bidirectional(LSTM(1024, activation='relu'))) #elu\n",
    "model.add(Dropout(0.5))\n",
    "#model.add(Bidirectional(LSTM(500, dropout=0.5)))\n",
    "model.add(BatchNormalization(momentum=0.6))\n",
    "model.add(Dropout(0.5))\n",
    "model.add(Dense(256, activation='relu'))\n",
    "model.add(Dense(3, activation='softmax'))\n",
    "model.compile(loss='binary_crossentropy', optimizer='adam', metrics=['accuracy'])\n",
    "print(model.summary()) "
   ]
  },
  {
   "cell_type": "code",
   "execution_count": null,
   "metadata": {},
   "outputs": [],
   "source": [
    "checkpointer = ModelCheckpoint(filepath='./'+'_best_weights.h5', verbose=1, monitor='val_loss', mode='auto', save_best_only=True) #save at each epoch if the validation decreased\n",
    "\n",
    "history =model.fit(x_train_new, Y_train_new, epochs=50, batch_size=512, verbose=1, validation_split=0.2, callbacks=[checkpointer])\n",
    "\n",
    "model.save('weights_BiLSTM2.h5')"
   ]
  },
  {
   "cell_type": "code",
   "execution_count": 195,
   "metadata": {},
   "outputs": [
    {
     "name": "stdout",
     "output_type": "stream",
     "text": [
      "65/65 [==============================] - 1s 12ms/step - loss: 0.2971 - accuracy: 0.8203\n",
      "Test loss: 0.29708006978034973\n",
      "Test accuracy: 0.8203389644622803\n"
     ]
    }
   ],
   "source": [
    "score = model.evaluate(x_test_new, Y_test_new, verbose=1)\n",
    "print('Test loss:', score[0])\n",
    "print('Test accuracy:', score[1])"
   ]
  },
  {
   "cell_type": "code",
   "execution_count": 196,
   "metadata": {},
   "outputs": [
    {
     "data": {
      "image/png": "[encoded data removed]",
      "text/plain": [
       "<Figure size 432x288 with 1 Axes>"
      ]
     },
     "metadata": {
      "needs_background": "light"
     },
     "output_type": "display_data"
    }
   ],
   "source": [
    "import matplotlib.pyplot as plt # shorcut for a plot function\n",
    "plt.plot(history.history['accuracy']) # training accuracy\n",
    "plt.plot(history.history['val_accuracy']) # validation accuracy\n",
    "plt.title('model accuracy')\n",
    "plt.ylabel('accuracy')\n",
    "plt.xlabel('epoch')\n",
    "plt.legend(['train', 'test'], loc='upper left')\n",
    "plt.show()"
   ]
  },
  {
   "cell_type": "code",
   "execution_count": 197,
   "metadata": {},
   "outputs": [
    {
     "data": {
      "image/png": "[encoded data removed]",
      "text/plain": [
       "<Figure size 432x288 with 1 Axes>"
      ]
     },
     "metadata": {
      "needs_background": "light"
     },
     "output_type": "display_data"
    }
   ],
   "source": [
    "plt.plot(history.history['loss'])\n",
    "plt.plot(history.history['val_loss'])\n",
    "plt.title('model loss')\n",
    "plt.ylabel('loss')\n",
    "plt.xlabel('epoch')\n",
    "plt.legend(['train', 'test'], loc='upper left')\n",
    "plt.show()"
   ]
  },
  {
   "cell_type": "code",
   "execution_count": 198,
   "metadata": {},
   "outputs": [
    {
     "name": "stdout",
     "output_type": "stream",
     "text": [
      "65/65 - 1s - 1s/epoch - 19ms/step\n",
      "predicted images size : (2065, 3)\n",
      "[[1.0000000e+00 2.0928071e-15 6.0455353e-23]\n",
      " [9.9900371e-01 9.5118087e-04 4.5182271e-05]\n",
      " [9.9971455e-01 2.8537912e-04 1.1846545e-08]\n",
      " ...\n",
      " [1.0000000e+00 3.6575662e-09 1.2782173e-11]\n",
      " [2.5697182e-06 9.9999738e-01 1.1594331e-08]\n",
      " [1.0000000e+00 6.7517270e-10 4.7873417e-15]]\n",
      "(2065, 3)\n"
     ]
    }
   ],
   "source": [
    "predictions = model.predict(x_test_new, batch_size=32, verbose=2)\n",
    "print (\"predicted images size :\",predictions.shape)\n",
    "print(predictions)\n",
    "print(Y_test_new.shape)"
   ]
  },
  {
   "cell_type": "code",
   "execution_count": 199,
   "metadata": {},
   "outputs": [
    {
     "name": "stdout",
     "output_type": "stream",
     "text": [
      "\n",
      "Confusion matrix:  Custom threshold (for positive) of 0.5\n",
      "[[742 235   3]\n",
      " [124 928   4]\n",
      " [  3   2  24]]\n"
     ]
    }
   ],
   "source": [
    "from sklearn.metrics import confusion_matrix,accuracy_score, precision_score, recall_score\n",
    "threshold_confusion = 0.5\n",
    "print (\"\\nConfusion matrix:  Custom threshold (for positive) of \" +str(threshold_confusion))\n",
    "y_pred = np.empty((predictions.shape[0]))\n",
    "y_test = np.empty((predictions.shape[0]))\n",
    "for i in range(predictions.shape[0]):\n",
    "    \n",
    "    y_pred[i]=np.argmax(predictions[i])\n",
    "    y_test[i]=np.argmax(Y_test_new[i])\n",
    "#print(y_pred)\n",
    "    \n",
    "       \n",
    "confusion = confusion_matrix(y_test,  y_pred)\n",
    "print (confusion)"
   ]
  },
  {
   "cell_type": "code",
   "execution_count": 200,
   "metadata": {},
   "outputs": [
    {
     "name": "stdout",
     "output_type": "stream",
     "text": [
      "The accuracy score on this random test-set is  : 0.8203389830508474\n",
      "recall [0.75714286 0.87878788 0.82758621] the avreage recall is  0.8211723142757625\n",
      "precision [0.85385501 0.79656652 0.77419355] the avreage precision is  0.808205025915329\n",
      "F1_score 0.8146370704558321\n"
     ]
    }
   ],
   "source": [
    "print(\"The accuracy score on this random test-set is  :\", accuracy_score(y_test,  y_pred) )\n",
    "recall=recall_score(y_test,  y_pred, average=None)\n",
    "av_recall=sum(recall)/3\n",
    "print(\"recall\",recall, \"the avreage recall is \",av_recall)\n",
    "precision=precision_score(y_test,  y_pred,average=None)\n",
    "av_precision=sum(precision)/3\n",
    "\n",
    "print(\"precision\",precision,\"the avreage precision is \",av_precision)\n",
    "\n",
    "F1_score=(2*av_precision*av_recall)/(av_precision+av_recall)\n",
    "print(\"F1_score\",F1_score)"
   ]
  },
  {
   "cell_type": "code",
   "execution_count": null,
   "metadata": {},
   "outputs": [],
   "source": []
  }
 ],
 "metadata": {
  "interpreter": {
   "hash": "4f6408f789ce582f12455b02ab095ed2a024a668d0e40c1283b993c53328683e"
  },
  "kernelspec": {
   "display_name": "Python 3.8.12 ('tensorflow-gpu')",
   "language": "python",
   "name": "python3"
  },
  "language_info": {
   "codemirror_mode": {
    "name": "ipython",
    "version": 3
   },
   "file_extension": ".py",
   "mimetype": "text/x-python",
   "name": "python",
   "nbconvert_exporter": "python",
   "pygments_lexer": "ipython3",
   "version": "3.8.12"
  },
  "orig_nbformat": 4
 },
 "nbformat": 4,
 "nbformat_minor": 2
}
